{
 "cells": [
  {
   "cell_type": "markdown",
   "metadata": {},
   "source": [
    "# \"2020 April One Day Holding Long Short Portfolio BackTest\"\n",
    "> \"2020 April Portfolio\"\n",
    "- toc: false\n",
    "- branch: master\n",
    "- badges: false\n",
    "- comments: true\n",
    "- categories: [long, short, longshort]\n",
    "- hide: false\n",
    "- search_exclude: true\n",
    "- metadata_key1: metadata_value1\n",
    "- metadata_key2: metadata_value2"
   ]
  },
  {
   "cell_type": "code",
   "execution_count": 236,
   "metadata": {},
   "outputs": [],
   "source": [
    "#hide_input\n",
    "import numpy as np\n",
    "import pandas as pd\n",
    "import seaborn as sns\n",
    "import os\n",
    "import time\n",
    "import gc\n",
    "import glob\n",
    "import matplotlib.pyplot as plt"
   ]
  },
  {
   "cell_type": "code",
   "execution_count": 237,
   "metadata": {},
   "outputs": [],
   "source": [
    "#hide_input\n",
    "df_testp=pd.read_csv('D:\\\\Downloads\\\\20204dayreturnpred2019train60K.csv')\n",
    "df_test=pd.read_csv('D:\\\\Downloads\\\\sample28K20194dayreturnpred2019train60K.csv')\n",
    "df_tes=pd.read_csv('D:\\\\Downloads\\\\10Q20194dayreturnpred2019train60K.csv')"
   ]
  },
  {
   "cell_type": "code",
   "execution_count": 238,
   "metadata": {},
   "outputs": [
    {
     "name": "stderr",
     "output_type": "stream",
     "text": [
      "C:\\ProgramData\\Anaconda3\\lib\\site-packages\\pandas\\core\\ops\\array_ops.py:253: FutureWarning: elementwise comparison failed; returning scalar instead, but in the future will perform elementwise comparison\n",
      "  res_values = method(rvalues)\n"
     ]
    }
   ],
   "source": [
    "#hide\n",
    "df_testp=df_testp.loc[df_testp.label!='nan'].loc[df_testp.Date>=20200401].loc[df_testp.Date<20200501].sort_values(by='Date',ascending=True).copy()\n",
    "df_test=df_test.loc[df_test.label!='nan'].loc[df_test.Date>=20200401].loc[df_test.Date<20200501].sort_values(by='Date',ascending=True).copy()\n",
    "df_tes=df_tes.loc[df_tes.label!='nan'].loc[df_tes.Date>=20200401].loc[df_tes.Date<20200501].sort_values(by='Date',ascending=True).copy()\n",
    "#df_testp.reset_index(drop=True, inplace=True)"
   ]
  },
  {
   "cell_type": "markdown",
   "metadata": {},
   "source": [
    "**Long-Short Portfolio**"
   ]
  },
  {
   "cell_type": "code",
   "execution_count": 239,
   "metadata": {},
   "outputs": [
    {
     "name": "stderr",
     "output_type": "stream",
     "text": [
      "C:\\ProgramData\\Anaconda3\\lib\\site-packages\\ipykernel_launcher.py:11: SettingWithCopyWarning: \n",
      "A value is trying to be set on a copy of a slice from a DataFrame\n",
      "\n",
      "See the caveats in the documentation: https://pandas.pydata.org/pandas-docs/stable/user_guide/indexing.html#returning-a-view-versus-a-copy\n",
      "  # This is added back by InteractiveShellApp.init_path()\n",
      "C:\\ProgramData\\Anaconda3\\lib\\site-packages\\ipykernel_launcher.py:16: SettingWithCopyWarning: \n",
      "A value is trying to be set on a copy of a slice from a DataFrame\n",
      "\n",
      "See the caveats in the documentation: https://pandas.pydata.org/pandas-docs/stable/user_guide/indexing.html#returning-a-view-versus-a-copy\n",
      "  app.launch_new_instance()\n"
     ]
    }
   ],
   "source": [
    "#hide\n",
    "df_agg=df_testp[['Date','pred','labelr1']].groupby(['Date','pred']).sum().reset_index();\n",
    "df_agg['cumreturn1']=0.0\n",
    "for l in range(len(df_agg)):\n",
    "    df_agg['cumreturn1'][l]=np.prod((1+(df_agg['labelr1']*df_agg['pred']/100))[:l+1])\n",
    "    \n",
    "#hide\n",
    "df_ag=df_test[['Date','pred','labelr1']].groupby(['Date','pred']).sum().reset_index();\n",
    "df_ag['cumreturn1a']=0.0\n",
    "for l in range(len(df_ag)):\n",
    "    df_ag['cumreturn1a'][l]=np.prod((1+(df_ag['labelr1']*df_ag['pred']/100))[:l+1])\n",
    "    \n",
    "df_a=df_tes[['Date','pred','labelr1']].groupby(['Date','pred']).sum().reset_index();\n",
    "df_a['cumreturn1b']=0.0\n",
    "for l in range(len(df_a)):\n",
    "    df_a['cumreturn1b'][l]=np.prod((1+(df_a['labelr1']*df_a['pred']/100))[:l+1])"
   ]
  },
  {
   "cell_type": "code",
   "execution_count": 240,
   "metadata": {},
   "outputs": [],
   "source": [
    "#hide\n",
    "if len(df_agg)>0:\n",
    "    import altair as alt\n",
    "    import datetime\n",
    "    df_agg['Date']=df_agg['Date'].astype(str).str[:4]+'-'+df_agg['Date'].astype(str).str[4:6]+'-'+df_agg['Date'].astype(str).str[6:]\n",
    "    df_agg['Date']=df_agg['Date'].apply(lambda x: datetime.datetime.strptime(x, \"%Y-%m-%d\"))\n",
    "    df_dow=pd.read_csv('D:\\\\Downloads\\\\GSPC.csv')\n",
    "    df_dow['Date']=df_dow['Date'].apply(lambda x: datetime.datetime.strptime(x, \"%Y-%m-%d\"))\n",
    "    df_dow=df_dow.loc[df_dow.Date>=df_agg.Date.min()].loc[df_dow.Date<=df_agg.Date.max()].reset_index()\n",
    "    df_dow['return']=((df_dow['Close'].shift(-1)-df_dow['Close'])/df_dow[\"Close\"])\n",
    "    df_dow['cumreturndow']=0.0\n",
    "    for l in range(len(df_dow)):\n",
    "        df_dow['cumreturndow'][l]=np.prod((1+(df_dow['return']))[:l+1])\n",
    "    df_agg=pd.merge(df_agg,df_dow[['Date','cumreturndow']], right_on='Date', left_on='Date',how='inner')\n",
    "    df_sp500=pd.read_csv('D:\\\\Downloads\\\\DJI.csv')\n",
    "    df_sp500['Date']=df_sp500['Date'].apply(lambda x: datetime.datetime.strptime(x, \"%Y-%m-%d\"))\n",
    "    df_sp500=df_sp500.loc[df_sp500.Date>=df_agg.Date.min()].loc[df_sp500.Date<=df_agg.Date.max()].reset_index()\n",
    "    df_sp500['return']=((df_sp500['Close'].shift(-1)-df_sp500['Close'])/df_sp500[\"Close\"])\n",
    "    df_sp500['cumreturnsp500']=0.0\n",
    "    for l in range(len(df_sp500)):\n",
    "        df_sp500['cumreturnsp500'][l]=np.prod((1+(df_sp500['return']))[:l+1])\n",
    "    \n",
    "    df_agg=pd.merge(df_agg,df_sp500[['Date','cumreturnsp500']], right_on='Date', left_on='Date',how='inner')\n",
    "    df_ag['Date']=df_ag['Date'].astype(str).str[:4]+'-'+df_ag['Date'].astype(str).str[4:6]+'-'+df_ag['Date'].astype(str).str[6:]\n",
    "    df_ag['Date']=df_ag['Date'].apply(lambda x: datetime.datetime.strptime(x, \"%Y-%m-%d\"))\n",
    "    df_agg=pd.merge(df_agg,df_ag[['Date','cumreturn1a']], right_on='Date', left_on='Date',how='inner')\n",
    "    df_a['Date']=df_a['Date'].astype(str).str[:4]+'-'+df_a['Date'].astype(str).str[4:6]+'-'+df_a['Date'].astype(str).str[6:]\n",
    "    df_a['Date']=df_a['Date'].apply(lambda x: datetime.datetime.strptime(x, \"%Y-%m-%d\"))\n",
    "    df_agg=pd.merge(df_agg,df_a[['Date','cumreturn1b']], right_on='Date', left_on='Date',how='inner')"
   ]
  },
  {
   "cell_type": "code",
   "execution_count": 241,
   "metadata": {},
   "outputs": [
    {
     "data": {
      "text/html": [
       "<div>\n",
       "<style scoped>\n",
       "    .dataframe tbody tr th:only-of-type {\n",
       "        vertical-align: middle;\n",
       "    }\n",
       "\n",
       "    .dataframe tbody tr th {\n",
       "        vertical-align: top;\n",
       "    }\n",
       "\n",
       "    .dataframe thead th {\n",
       "        text-align: right;\n",
       "    }\n",
       "</style>\n",
       "<table border=\"1\" class=\"dataframe\">\n",
       "  <thead>\n",
       "    <tr style=\"text-align: right;\">\n",
       "      <th></th>\n",
       "      <th>Date</th>\n",
       "      <th>pred</th>\n",
       "      <th>labelr1</th>\n",
       "      <th>cumreturn1</th>\n",
       "    </tr>\n",
       "  </thead>\n",
       "  <tbody>\n",
       "  </tbody>\n",
       "</table>\n",
       "</div>"
      ],
      "text/plain": [
       "Empty DataFrame\n",
       "Columns: [Date, pred, labelr1, cumreturn1]\n",
       "Index: []"
      ]
     },
     "execution_count": 241,
     "metadata": {},
     "output_type": "execute_result"
    }
   ],
   "source": [
    "#hide_input\n",
    "df_agg"
   ]
  },
  {
   "cell_type": "code",
   "execution_count": 242,
   "metadata": {},
   "outputs": [
    {
     "data": {
      "text/html": [
       "\n",
       "<div id=\"altair-viz-bdc1f3ea87194620a36759bb6e8207c8\"></div>\n",
       "<script type=\"text/javascript\">\n",
       "  (function(spec, embedOpt){\n",
       "    let outputDiv = document.currentScript.previousElementSibling;\n",
       "    if (outputDiv.id !== \"altair-viz-bdc1f3ea87194620a36759bb6e8207c8\") {\n",
       "      outputDiv = document.getElementById(\"altair-viz-bdc1f3ea87194620a36759bb6e8207c8\");\n",
       "    }\n",
       "    const paths = {\n",
       "      \"vega\": \"https://cdn.jsdelivr.net/npm//vega@5?noext\",\n",
       "      \"vega-lib\": \"https://cdn.jsdelivr.net/npm//vega-lib?noext\",\n",
       "      \"vega-lite\": \"https://cdn.jsdelivr.net/npm//vega-lite@4.8.1?noext\",\n",
       "      \"vega-embed\": \"https://cdn.jsdelivr.net/npm//vega-embed@6?noext\",\n",
       "    };\n",
       "\n",
       "    function loadScript(lib) {\n",
       "      return new Promise(function(resolve, reject) {\n",
       "        var s = document.createElement('script');\n",
       "        s.src = paths[lib];\n",
       "        s.async = true;\n",
       "        s.onload = () => resolve(paths[lib]);\n",
       "        s.onerror = () => reject(`Error loading script: ${paths[lib]}`);\n",
       "        document.getElementsByTagName(\"head\")[0].appendChild(s);\n",
       "      });\n",
       "    }\n",
       "\n",
       "    function showError(err) {\n",
       "      outputDiv.innerHTML = `<div class=\"error\" style=\"color:red;\">${err}</div>`;\n",
       "      throw err;\n",
       "    }\n",
       "\n",
       "    function displayChart(vegaEmbed) {\n",
       "      vegaEmbed(outputDiv, spec, embedOpt)\n",
       "        .catch(err => showError(`Javascript Error: ${err.message}<br>This usually means there's a typo in your chart specification. See the javascript console for the full traceback.`));\n",
       "    }\n",
       "\n",
       "    if(typeof define === \"function\" && define.amd) {\n",
       "      requirejs.config({paths});\n",
       "      require([\"vega-embed\"], displayChart, err => showError(`Error loading script: ${err.message}`));\n",
       "    } else if (typeof vegaEmbed === \"function\") {\n",
       "      displayChart(vegaEmbed);\n",
       "    } else {\n",
       "      loadScript(\"vega\")\n",
       "        .then(() => loadScript(\"vega-lite\"))\n",
       "        .then(() => loadScript(\"vega-embed\"))\n",
       "        .catch(showError)\n",
       "        .then(() => displayChart(vegaEmbed));\n",
       "    }\n",
       "  })({\"config\": {\"view\": {\"continuousWidth\": 400, \"continuousHeight\": 300}}, \"layer\": [{\"mark\": {\"type\": \"trail\", \"color\": \"steelblue\"}, \"encoding\": {\"size\": {\"type\": \"quantitative\", \"field\": \"cumreturn1\"}, \"x\": {\"type\": \"temporal\", \"field\": \"Date\"}, \"y\": {\"type\": \"quantitative\", \"field\": \"cumreturn1\"}}, \"height\": 1000, \"title\": \"10KPortfolio (blue) vs 8KPortfolio (brown) vs 10QPortfolio (yellow) vs  Dow (black) vs SP500 (red)\", \"width\": 1000}, {\"mark\": {\"type\": \"circle\", \"color\": \"black\", \"size\": 40}, \"encoding\": {\"x\": {\"type\": \"temporal\", \"field\": \"Date\"}, \"y\": {\"type\": \"quantitative\", \"field\": \"cumreturndow\"}}, \"height\": 1000, \"width\": 1000}, {\"mark\": {\"type\": \"tick\", \"color\": \"red\"}, \"encoding\": {\"x\": {\"type\": \"temporal\", \"field\": \"Date\"}, \"y\": {\"type\": \"quantitative\", \"field\": \"cumreturnsp500\"}}, \"height\": 1000, \"width\": 1000}, {\"mark\": {\"type\": \"line\", \"color\": \"brown\"}, \"encoding\": {\"x\": {\"type\": \"temporal\", \"field\": \"Date\"}, \"y\": {\"type\": \"quantitative\", \"field\": \"cumreturn1a\"}}, \"height\": 1000, \"width\": 1000}, {\"mark\": {\"type\": \"line\", \"color\": \"yellow\"}, \"encoding\": {\"x\": {\"type\": \"temporal\", \"field\": \"Date\"}, \"y\": {\"type\": \"quantitative\", \"field\": \"cumreturn1b\"}}, \"height\": 1000, \"width\": 1000}], \"data\": {\"name\": \"data-d751713988987e9331980363e24189ce\"}, \"$schema\": \"https://vega.github.io/schema/vega-lite/v4.8.1.json\", \"datasets\": {\"data-d751713988987e9331980363e24189ce\": []}}, {\"mode\": \"vega-lite\"});\n",
       "</script>"
      ],
      "text/plain": [
       "alt.LayerChart(...)"
      ]
     },
     "execution_count": 242,
     "metadata": {},
     "output_type": "execute_result"
    }
   ],
   "source": [
    "#hide_input\n",
    "import altair as alt\n",
    "a1 = alt.Chart(df_agg).mark_trail(color='steelblue').encode(\n",
    "    x='Date:T',\n",
    "    y='cumreturn1:Q',\n",
    "    size='cumreturn1',\n",
    "    \n",
    ").properties(\n",
    "    width=1000,\n",
    "    height=1000,\n",
    "    title='10KPortfolio (blue) vs 8KPortfolio (brown) vs 10QPortfolio (yellow) vs  Dow (black) vs SP500 (red)'\n",
    ")\n",
    "\n",
    "a2 = alt.Chart(df_agg).mark_circle(color='black',size=40).encode(\n",
    "    x='Date:T',\n",
    "    y='cumreturndow:Q',\n",
    "\n",
    ").properties(\n",
    "    width=1000,\n",
    "    height=1000\n",
    ")\n",
    "\n",
    "a3 = alt.Chart(df_agg).mark_tick(color='red').encode(\n",
    "    x='Date:T',\n",
    "    y='cumreturnsp500:Q',\n",
    "\n",
    ").properties(\n",
    "    width=1000,\n",
    "    height=1000\n",
    ")\n",
    "\n",
    "a4 = alt.Chart(df_agg).mark_line(color='brown').encode(\n",
    "    x='Date:T',\n",
    "    y='cumreturn1a:Q',\n",
    "\n",
    ").properties(\n",
    "    width=1000,\n",
    "    height=1000\n",
    ")\n",
    "\n",
    "a5 = alt.Chart(df_agg).mark_line(color='yellow').encode(\n",
    "    x='Date:T',\n",
    "    y='cumreturn1b:Q',\n",
    "\n",
    ").properties(\n",
    "    width=1000,\n",
    "    height=1000\n",
    ")\n",
    "\n",
    "a1 + a2 + a3 + a4 + a5"
   ]
  },
  {
   "cell_type": "markdown",
   "metadata": {},
   "source": [
    "**Long portfolio**"
   ]
  },
  {
   "cell_type": "code",
   "execution_count": 243,
   "metadata": {},
   "outputs": [
    {
     "name": "stderr",
     "output_type": "stream",
     "text": [
      "C:\\ProgramData\\Anaconda3\\lib\\site-packages\\ipykernel_launcher.py:10: SettingWithCopyWarning: \n",
      "A value is trying to be set on a copy of a slice from a DataFrame\n",
      "\n",
      "See the caveats in the documentation: https://pandas.pydata.org/pandas-docs/stable/user_guide/indexing.html#returning-a-view-versus-a-copy\n",
      "  # Remove the CWD from sys.path while we load stuff.\n",
      "C:\\ProgramData\\Anaconda3\\lib\\site-packages\\ipykernel_launcher.py:15: SettingWithCopyWarning: \n",
      "A value is trying to be set on a copy of a slice from a DataFrame\n",
      "\n",
      "See the caveats in the documentation: https://pandas.pydata.org/pandas-docs/stable/user_guide/indexing.html#returning-a-view-versus-a-copy\n",
      "  from ipykernel import kernelapp as app\n"
     ]
    }
   ],
   "source": [
    "#hide\n",
    "df_agg=df_testp[['Date','pred','labelr1']].loc[df_testp.pred==1.0].groupby(['Date','pred']).sum().reset_index();\n",
    "df_agg['cumreturn1']=0.0\n",
    "for l in range(len(df_agg)):\n",
    "    df_agg['cumreturn1'][l]=np.prod((1+(df_agg['labelr1']*df_agg['pred']/100))[:l+1])\n",
    "\n",
    "df_ag=df_test[['Date','pred','labelr1']].loc[df_test.pred==1.0].groupby(['Date','pred']).sum().reset_index();\n",
    "df_ag['cumreturn1a']=0.0\n",
    "for l in range(len(df_ag)):\n",
    "    df_ag['cumreturn1a'][l]=np.prod((1+(df_ag['labelr1']*df_ag['pred']/100))[:l+1])\n",
    "\n",
    "df_a=df_tes[['Date','pred','labelr1']].loc[df_tes.pred==1.0].groupby(['Date','pred']).sum().reset_index();\n",
    "df_a['cumreturn1b']=0.0\n",
    "for l in range(len(df_a)):\n",
    "    df_a['cumreturn1b'][l]=np.prod((1+(df_a['labelr1']*df_a['pred']/100))[:l+1])"
   ]
  },
  {
   "cell_type": "code",
   "execution_count": 244,
   "metadata": {},
   "outputs": [],
   "source": [
    "#hide\n",
    "if len(df_agg)>0:\n",
    "    import altair as alt\n",
    "    import datetime\n",
    "    df_agg['Date']=df_agg['Date'].astype(str).str[:4]+'-'+df_agg['Date'].astype(str).str[4:6]+'-'+df_agg['Date'].astype(str).str[6:]\n",
    "    df_agg['Date']=df_agg['Date'].apply(lambda x: datetime.datetime.strptime(x, \"%Y-%m-%d\"))\n",
    "    df_dow=pd.read_csv('D:\\\\Downloads\\\\GSPC.csv')\n",
    "    df_dow['Date']=df_dow['Date'].apply(lambda x: datetime.datetime.strptime(x, \"%Y-%m-%d\"))\n",
    "    df_dow=df_dow.loc[df_dow.Date>=df_agg.Date.min()].loc[df_dow.Date<=df_agg.Date.max()].reset_index()\n",
    "    df_dow['return']=((df_dow['Close'].shift(-1)-df_dow['Close'])/df_dow[\"Close\"])\n",
    "    df_dow['cumreturndow']=0.0\n",
    "    for l in range(len(df_dow)):\n",
    "        df_dow['cumreturndow'][l]=np.prod((1+(df_dow['return']))[:l+1])\n",
    "    df_agg=pd.merge(df_agg,df_dow[['Date','cumreturndow']], right_on='Date', left_on='Date',how='inner')\n",
    "    df_sp500=pd.read_csv('D:\\\\Downloads\\\\DJI.csv')\n",
    "    df_sp500['Date']=df_sp500['Date'].apply(lambda x: datetime.datetime.strptime(x, \"%Y-%m-%d\"))\n",
    "    df_sp500=df_sp500.loc[df_sp500.Date>=df_agg.Date.min()].loc[df_sp500.Date<=df_agg.Date.max()].reset_index()\n",
    "    df_sp500['return']=((df_sp500['Close'].shift(-1)-df_sp500['Close'])/df_sp500[\"Close\"])\n",
    "    df_sp500['cumreturnsp500']=0.0\n",
    "    for l in range(len(df_sp500)):\n",
    "        df_sp500['cumreturnsp500'][l]=np.prod((1+(df_sp500['return']))[:l+1])\n",
    "    df_agg=pd.merge(df_agg,df_sp500[['Date','cumreturnsp500']], right_on='Date', left_on='Date',how='inner')\n",
    "    df_ag['Date']=df_ag['Date'].astype(str).str[:4]+'-'+df_ag['Date'].astype(str).str[4:6]+'-'+df_ag['Date'].astype(str).str[6:]\n",
    "    df_ag['Date']=df_ag['Date'].apply(lambda x: datetime.datetime.strptime(x, \"%Y-%m-%d\"))\n",
    "    df_agg=pd.merge(df_agg,df_ag[['Date','cumreturn1a']], right_on='Date', left_on='Date',how='inner')\n",
    "    df_a['Date']=df_a['Date'].astype(str).str[:4]+'-'+df_a['Date'].astype(str).str[4:6]+'-'+df_a['Date'].astype(str).str[6:]\n",
    "    df_a['Date']=df_a['Date'].apply(lambda x: datetime.datetime.strptime(x, \"%Y-%m-%d\"))\n",
    "    df_agg=pd.merge(df_agg,df_a[['Date','cumreturn1b']], right_on='Date', left_on='Date',how='inner')"
   ]
  },
  {
   "cell_type": "code",
   "execution_count": 245,
   "metadata": {},
   "outputs": [
    {
     "data": {
      "text/html": [
       "<div>\n",
       "<style scoped>\n",
       "    .dataframe tbody tr th:only-of-type {\n",
       "        vertical-align: middle;\n",
       "    }\n",
       "\n",
       "    .dataframe tbody tr th {\n",
       "        vertical-align: top;\n",
       "    }\n",
       "\n",
       "    .dataframe thead th {\n",
       "        text-align: right;\n",
       "    }\n",
       "</style>\n",
       "<table border=\"1\" class=\"dataframe\">\n",
       "  <thead>\n",
       "    <tr style=\"text-align: right;\">\n",
       "      <th></th>\n",
       "      <th>Date</th>\n",
       "      <th>pred</th>\n",
       "      <th>labelr1</th>\n",
       "      <th>cumreturn1</th>\n",
       "    </tr>\n",
       "  </thead>\n",
       "  <tbody>\n",
       "  </tbody>\n",
       "</table>\n",
       "</div>"
      ],
      "text/plain": [
       "Empty DataFrame\n",
       "Columns: [Date, pred, labelr1, cumreturn1]\n",
       "Index: []"
      ]
     },
     "execution_count": 245,
     "metadata": {},
     "output_type": "execute_result"
    }
   ],
   "source": [
    "#hide_input\n",
    "df_agg"
   ]
  },
  {
   "cell_type": "code",
   "execution_count": 246,
   "metadata": {},
   "outputs": [
    {
     "data": {
      "text/html": [
       "\n",
       "<div id=\"altair-viz-b118e30e3ee3488da6fe4b3630ef3e63\"></div>\n",
       "<script type=\"text/javascript\">\n",
       "  (function(spec, embedOpt){\n",
       "    let outputDiv = document.currentScript.previousElementSibling;\n",
       "    if (outputDiv.id !== \"altair-viz-b118e30e3ee3488da6fe4b3630ef3e63\") {\n",
       "      outputDiv = document.getElementById(\"altair-viz-b118e30e3ee3488da6fe4b3630ef3e63\");\n",
       "    }\n",
       "    const paths = {\n",
       "      \"vega\": \"https://cdn.jsdelivr.net/npm//vega@5?noext\",\n",
       "      \"vega-lib\": \"https://cdn.jsdelivr.net/npm//vega-lib?noext\",\n",
       "      \"vega-lite\": \"https://cdn.jsdelivr.net/npm//vega-lite@4.8.1?noext\",\n",
       "      \"vega-embed\": \"https://cdn.jsdelivr.net/npm//vega-embed@6?noext\",\n",
       "    };\n",
       "\n",
       "    function loadScript(lib) {\n",
       "      return new Promise(function(resolve, reject) {\n",
       "        var s = document.createElement('script');\n",
       "        s.src = paths[lib];\n",
       "        s.async = true;\n",
       "        s.onload = () => resolve(paths[lib]);\n",
       "        s.onerror = () => reject(`Error loading script: ${paths[lib]}`);\n",
       "        document.getElementsByTagName(\"head\")[0].appendChild(s);\n",
       "      });\n",
       "    }\n",
       "\n",
       "    function showError(err) {\n",
       "      outputDiv.innerHTML = `<div class=\"error\" style=\"color:red;\">${err}</div>`;\n",
       "      throw err;\n",
       "    }\n",
       "\n",
       "    function displayChart(vegaEmbed) {\n",
       "      vegaEmbed(outputDiv, spec, embedOpt)\n",
       "        .catch(err => showError(`Javascript Error: ${err.message}<br>This usually means there's a typo in your chart specification. See the javascript console for the full traceback.`));\n",
       "    }\n",
       "\n",
       "    if(typeof define === \"function\" && define.amd) {\n",
       "      requirejs.config({paths});\n",
       "      require([\"vega-embed\"], displayChart, err => showError(`Error loading script: ${err.message}`));\n",
       "    } else if (typeof vegaEmbed === \"function\") {\n",
       "      displayChart(vegaEmbed);\n",
       "    } else {\n",
       "      loadScript(\"vega\")\n",
       "        .then(() => loadScript(\"vega-lite\"))\n",
       "        .then(() => loadScript(\"vega-embed\"))\n",
       "        .catch(showError)\n",
       "        .then(() => displayChart(vegaEmbed));\n",
       "    }\n",
       "  })({\"config\": {\"view\": {\"continuousWidth\": 400, \"continuousHeight\": 300}}, \"layer\": [{\"mark\": {\"type\": \"trail\", \"color\": \"steelblue\"}, \"encoding\": {\"size\": {\"type\": \"quantitative\", \"field\": \"cumreturn1\"}, \"x\": {\"type\": \"temporal\", \"field\": \"Date\"}, \"y\": {\"type\": \"quantitative\", \"field\": \"cumreturn1\"}}, \"height\": 1000, \"title\": \"10KPortfolio (blue) vs 8KPortfolio (brown) vs 10QPortfolio (yellow) vs  Dow (black) vs SP500 (red)\", \"width\": 1000}, {\"mark\": {\"type\": \"circle\", \"color\": \"black\", \"size\": 40}, \"encoding\": {\"x\": {\"type\": \"temporal\", \"field\": \"Date\"}, \"y\": {\"type\": \"quantitative\", \"field\": \"cumreturndow\"}}, \"height\": 1000, \"width\": 1000}, {\"mark\": {\"type\": \"tick\", \"color\": \"red\"}, \"encoding\": {\"x\": {\"type\": \"temporal\", \"field\": \"Date\"}, \"y\": {\"type\": \"quantitative\", \"field\": \"cumreturnsp500\"}}, \"height\": 1000, \"width\": 1000}, {\"mark\": {\"type\": \"line\", \"color\": \"brown\"}, \"encoding\": {\"x\": {\"type\": \"temporal\", \"field\": \"Date\"}, \"y\": {\"type\": \"quantitative\", \"field\": \"cumreturn1a\"}}, \"height\": 1000, \"width\": 1000}, {\"mark\": {\"type\": \"line\", \"color\": \"yellow\"}, \"encoding\": {\"x\": {\"type\": \"temporal\", \"field\": \"Date\"}, \"y\": {\"type\": \"quantitative\", \"field\": \"cumreturn1b\"}}, \"height\": 1000, \"width\": 1000}], \"data\": {\"name\": \"data-d751713988987e9331980363e24189ce\"}, \"$schema\": \"https://vega.github.io/schema/vega-lite/v4.8.1.json\", \"datasets\": {\"data-d751713988987e9331980363e24189ce\": []}}, {\"mode\": \"vega-lite\"});\n",
       "</script>"
      ],
      "text/plain": [
       "alt.LayerChart(...)"
      ]
     },
     "execution_count": 246,
     "metadata": {},
     "output_type": "execute_result"
    }
   ],
   "source": [
    "#hide_input\n",
    "import altair as alt\n",
    "a1 = alt.Chart(df_agg).mark_trail(color='steelblue').encode(\n",
    "    x='Date:T',\n",
    "    y='cumreturn1:Q',\n",
    "    size='cumreturn1',\n",
    "    \n",
    ").properties(\n",
    "    width=1000,\n",
    "    height=1000,\n",
    "    title='10KPortfolio (blue) vs 8KPortfolio (brown) vs 10QPortfolio (yellow) vs  Dow (black) vs SP500 (red)'\n",
    ")\n",
    "\n",
    "a2 = alt.Chart(df_agg).mark_circle(color='black',size=40).encode(\n",
    "    x='Date:T',\n",
    "    y='cumreturndow:Q',\n",
    "\n",
    ").properties(\n",
    "    width=1000,\n",
    "    height=1000\n",
    ")\n",
    "\n",
    "a3 = alt.Chart(df_agg).mark_tick(color='red').encode(\n",
    "    x='Date:T',\n",
    "    y='cumreturnsp500:Q',\n",
    "\n",
    ").properties(\n",
    "    width=1000,\n",
    "    height=1000\n",
    ")\n",
    "\n",
    "a4 = alt.Chart(df_agg).mark_line(color='brown').encode(\n",
    "    x='Date:T',\n",
    "    y='cumreturn1a:Q',\n",
    "\n",
    ").properties(\n",
    "    width=1000,\n",
    "    height=1000\n",
    ")\n",
    "\n",
    "a5 = alt.Chart(df_agg).mark_line(color='yellow').encode(\n",
    "    x='Date:T',\n",
    "    y='cumreturn1b:Q',\n",
    "\n",
    ").properties(\n",
    "    width=1000,\n",
    "    height=1000\n",
    ")\n",
    "\n",
    "a1 + a2 + a3 + a4 + a5"
   ]
  },
  {
   "cell_type": "markdown",
   "metadata": {},
   "source": [
    "**Short Portfolio**"
   ]
  },
  {
   "cell_type": "code",
   "execution_count": 247,
   "metadata": {},
   "outputs": [
    {
     "name": "stderr",
     "output_type": "stream",
     "text": [
      "C:\\ProgramData\\Anaconda3\\lib\\site-packages\\ipykernel_launcher.py:10: SettingWithCopyWarning: \n",
      "A value is trying to be set on a copy of a slice from a DataFrame\n",
      "\n",
      "See the caveats in the documentation: https://pandas.pydata.org/pandas-docs/stable/user_guide/indexing.html#returning-a-view-versus-a-copy\n",
      "  # Remove the CWD from sys.path while we load stuff.\n",
      "C:\\ProgramData\\Anaconda3\\lib\\site-packages\\ipykernel_launcher.py:15: SettingWithCopyWarning: \n",
      "A value is trying to be set on a copy of a slice from a DataFrame\n",
      "\n",
      "See the caveats in the documentation: https://pandas.pydata.org/pandas-docs/stable/user_guide/indexing.html#returning-a-view-versus-a-copy\n",
      "  from ipykernel import kernelapp as app\n"
     ]
    }
   ],
   "source": [
    "#hide\n",
    "df_agg=df_testp[['Date','pred','labelr1']].loc[df_testp.pred==-1.0].groupby(['Date','pred']).sum().reset_index();\n",
    "df_agg['cumreturn1']=0.0\n",
    "for l in range(len(df_agg)):\n",
    "    df_agg['cumreturn1'][l]=np.prod((1+(df_agg['labelr1']*df_agg['pred']/100))[:l+1])\n",
    "\n",
    "df_ag=df_test[['Date','pred','labelr1']].loc[df_test.pred==-1.0].groupby(['Date','pred']).sum().reset_index();\n",
    "df_ag['cumreturn1a']=0.0\n",
    "for l in range(len(df_ag)):\n",
    "    df_ag['cumreturn1a'][l]=np.prod((1+(df_ag['labelr1']*df_ag['pred']/100))[:l+1])\n",
    "    \n",
    "df_a=df_tes[['Date','pred','labelr1']].loc[df_tes.pred==-1.0].groupby(['Date','pred']).sum().reset_index();\n",
    "df_a['cumreturn1b']=0.0\n",
    "for l in range(len(df_a)):\n",
    "    df_a['cumreturn1b'][l]=np.prod((1+(df_a['labelr1']*df_a['pred']/100))[:l+1])"
   ]
  },
  {
   "cell_type": "code",
   "execution_count": 248,
   "metadata": {},
   "outputs": [],
   "source": [
    "#hide\n",
    "if len(df_agg)>0:\n",
    "    import altair as alt\n",
    "    import datetime\n",
    "    df_agg['Date']=df_agg['Date'].astype(str).str[:4]+'-'+df_agg['Date'].astype(str).str[4:6]+'-'+df_agg['Date'].astype(str).str[6:]\n",
    "    df_agg['Date']=df_agg['Date'].apply(lambda x: datetime.datetime.strptime(x, \"%Y-%m-%d\"))\n",
    "    df_dow=pd.read_csv('D:\\\\Downloads\\\\GSPC.csv')\n",
    "    df_dow['Date']=df_dow['Date'].apply(lambda x: datetime.datetime.strptime(x, \"%Y-%m-%d\"))\n",
    "    df_dow=df_dow.loc[df_dow.Date>=df_agg.Date.min()].loc[df_dow.Date<=df_agg.Date.max()].reset_index()\n",
    "    df_dow['return']=((df_dow['Close'].shift(-1)-df_dow['Close'])/df_dow[\"Close\"])\n",
    "    df_dow['cumreturndow']=0.0\n",
    "    for l in range(len(df_dow)):\n",
    "        df_dow['cumreturndow'][l]=np.prod((1+(df_dow['return']))[:l+1])\n",
    "    df_agg=pd.merge(df_agg,df_dow[['Date','cumreturndow']], right_on='Date', left_on='Date',how='inner')\n",
    "    df_sp500=pd.read_csv('D:\\\\Downloads\\\\DJI.csv')\n",
    "    df_sp500['Date']=df_sp500['Date'].apply(lambda x: datetime.datetime.strptime(x, \"%Y-%m-%d\"))\n",
    "    df_sp500=df_sp500.loc[df_sp500.Date>=df_agg.Date.min()].loc[df_sp500.Date<=df_agg.Date.max()].reset_index()\n",
    "    df_sp500['return']=((df_sp500['Close'].shift(-1)-df_sp500['Close'])/df_sp500[\"Close\"])\n",
    "    df_sp500['cumreturnsp500']=0.0\n",
    "    for l in range(len(df_sp500)):\n",
    "        df_sp500['cumreturnsp500'][l]=np.prod((1+(df_sp500['return']))[:l+1])\n",
    "    df_agg=pd.merge(df_agg,df_sp500[['Date','cumreturnsp500']], right_on='Date', left_on='Date',how='inner')\n",
    "    df_ag['Date']=df_ag['Date'].astype(str).str[:4]+'-'+df_ag['Date'].astype(str).str[4:6]+'-'+df_ag['Date'].astype(str).str[6:]\n",
    "    df_ag['Date']=df_ag['Date'].apply(lambda x: datetime.datetime.strptime(x, \"%Y-%m-%d\"))\n",
    "    df_agg=pd.merge(df_agg,df_ag[['Date','cumreturn1a']], right_on='Date', left_on='Date',how='inner')\n",
    "    df_a['Date']=df_a['Date'].astype(str).str[:4]+'-'+df_a['Date'].astype(str).str[4:6]+'-'+df_a['Date'].astype(str).str[6:]\n",
    "    df_a['Date']=df_a['Date'].apply(lambda x: datetime.datetime.strptime(x, \"%Y-%m-%d\"))\n",
    "    df_agg=pd.merge(df_agg,df_a[['Date','cumreturn1b']], right_on='Date', left_on='Date',how='inner')"
   ]
  },
  {
   "cell_type": "code",
   "execution_count": 249,
   "metadata": {},
   "outputs": [
    {
     "data": {
      "text/html": [
       "<div>\n",
       "<style scoped>\n",
       "    .dataframe tbody tr th:only-of-type {\n",
       "        vertical-align: middle;\n",
       "    }\n",
       "\n",
       "    .dataframe tbody tr th {\n",
       "        vertical-align: top;\n",
       "    }\n",
       "\n",
       "    .dataframe thead th {\n",
       "        text-align: right;\n",
       "    }\n",
       "</style>\n",
       "<table border=\"1\" class=\"dataframe\">\n",
       "  <thead>\n",
       "    <tr style=\"text-align: right;\">\n",
       "      <th></th>\n",
       "      <th>Date</th>\n",
       "      <th>pred</th>\n",
       "      <th>labelr1</th>\n",
       "      <th>cumreturn1</th>\n",
       "    </tr>\n",
       "  </thead>\n",
       "  <tbody>\n",
       "  </tbody>\n",
       "</table>\n",
       "</div>"
      ],
      "text/plain": [
       "Empty DataFrame\n",
       "Columns: [Date, pred, labelr1, cumreturn1]\n",
       "Index: []"
      ]
     },
     "execution_count": 249,
     "metadata": {},
     "output_type": "execute_result"
    }
   ],
   "source": [
    "#hide_input\n",
    "df_agg"
   ]
  },
  {
   "cell_type": "code",
   "execution_count": 250,
   "metadata": {},
   "outputs": [
    {
     "data": {
      "text/html": [
       "\n",
       "<div id=\"altair-viz-1affba4762b441429c92feeccadb3d6f\"></div>\n",
       "<script type=\"text/javascript\">\n",
       "  (function(spec, embedOpt){\n",
       "    let outputDiv = document.currentScript.previousElementSibling;\n",
       "    if (outputDiv.id !== \"altair-viz-1affba4762b441429c92feeccadb3d6f\") {\n",
       "      outputDiv = document.getElementById(\"altair-viz-1affba4762b441429c92feeccadb3d6f\");\n",
       "    }\n",
       "    const paths = {\n",
       "      \"vega\": \"https://cdn.jsdelivr.net/npm//vega@5?noext\",\n",
       "      \"vega-lib\": \"https://cdn.jsdelivr.net/npm//vega-lib?noext\",\n",
       "      \"vega-lite\": \"https://cdn.jsdelivr.net/npm//vega-lite@4.8.1?noext\",\n",
       "      \"vega-embed\": \"https://cdn.jsdelivr.net/npm//vega-embed@6?noext\",\n",
       "    };\n",
       "\n",
       "    function loadScript(lib) {\n",
       "      return new Promise(function(resolve, reject) {\n",
       "        var s = document.createElement('script');\n",
       "        s.src = paths[lib];\n",
       "        s.async = true;\n",
       "        s.onload = () => resolve(paths[lib]);\n",
       "        s.onerror = () => reject(`Error loading script: ${paths[lib]}`);\n",
       "        document.getElementsByTagName(\"head\")[0].appendChild(s);\n",
       "      });\n",
       "    }\n",
       "\n",
       "    function showError(err) {\n",
       "      outputDiv.innerHTML = `<div class=\"error\" style=\"color:red;\">${err}</div>`;\n",
       "      throw err;\n",
       "    }\n",
       "\n",
       "    function displayChart(vegaEmbed) {\n",
       "      vegaEmbed(outputDiv, spec, embedOpt)\n",
       "        .catch(err => showError(`Javascript Error: ${err.message}<br>This usually means there's a typo in your chart specification. See the javascript console for the full traceback.`));\n",
       "    }\n",
       "\n",
       "    if(typeof define === \"function\" && define.amd) {\n",
       "      requirejs.config({paths});\n",
       "      require([\"vega-embed\"], displayChart, err => showError(`Error loading script: ${err.message}`));\n",
       "    } else if (typeof vegaEmbed === \"function\") {\n",
       "      displayChart(vegaEmbed);\n",
       "    } else {\n",
       "      loadScript(\"vega\")\n",
       "        .then(() => loadScript(\"vega-lite\"))\n",
       "        .then(() => loadScript(\"vega-embed\"))\n",
       "        .catch(showError)\n",
       "        .then(() => displayChart(vegaEmbed));\n",
       "    }\n",
       "  })({\"config\": {\"view\": {\"continuousWidth\": 400, \"continuousHeight\": 300}}, \"layer\": [{\"mark\": {\"type\": \"trail\", \"color\": \"steelblue\"}, \"encoding\": {\"size\": {\"type\": \"quantitative\", \"field\": \"cumreturn1\"}, \"x\": {\"type\": \"temporal\", \"field\": \"Date\"}, \"y\": {\"type\": \"quantitative\", \"field\": \"cumreturn1\"}}, \"height\": 1000, \"title\": \"10KPortfolio (blue) vs 8KPortfolio (brown) vs 10QPortfolio (yellow) vs  Dow (black) vs SP500 (red)\", \"width\": 1000}, {\"mark\": {\"type\": \"circle\", \"color\": \"black\", \"size\": 40}, \"encoding\": {\"x\": {\"type\": \"temporal\", \"field\": \"Date\"}, \"y\": {\"type\": \"quantitative\", \"field\": \"cumreturndow\"}}, \"height\": 1000, \"width\": 1000}, {\"mark\": {\"type\": \"tick\", \"color\": \"red\"}, \"encoding\": {\"x\": {\"type\": \"temporal\", \"field\": \"Date\"}, \"y\": {\"type\": \"quantitative\", \"field\": \"cumreturnsp500\"}}, \"height\": 1000, \"width\": 1000}, {\"mark\": {\"type\": \"line\", \"color\": \"brown\"}, \"encoding\": {\"x\": {\"type\": \"temporal\", \"field\": \"Date\"}, \"y\": {\"type\": \"quantitative\", \"field\": \"cumreturn1a\"}}, \"height\": 1000, \"width\": 1000}, {\"mark\": {\"type\": \"line\", \"color\": \"yellow\"}, \"encoding\": {\"x\": {\"type\": \"temporal\", \"field\": \"Date\"}, \"y\": {\"type\": \"quantitative\", \"field\": \"cumreturn1b\"}}, \"height\": 1000, \"width\": 1000}], \"data\": {\"name\": \"data-d751713988987e9331980363e24189ce\"}, \"$schema\": \"https://vega.github.io/schema/vega-lite/v4.8.1.json\", \"datasets\": {\"data-d751713988987e9331980363e24189ce\": []}}, {\"mode\": \"vega-lite\"});\n",
       "</script>"
      ],
      "text/plain": [
       "alt.LayerChart(...)"
      ]
     },
     "execution_count": 250,
     "metadata": {},
     "output_type": "execute_result"
    }
   ],
   "source": [
    "#hide_input\n",
    "import altair as alt\n",
    "a1 = alt.Chart(df_agg).mark_trail(color='steelblue').encode(\n",
    "    x='Date:T',\n",
    "    y='cumreturn1:Q',\n",
    "    size='cumreturn1',\n",
    "    \n",
    ").properties(\n",
    "    width=1000,\n",
    "    height=1000,\n",
    "    title='10KPortfolio (blue) vs 8KPortfolio (brown) vs 10QPortfolio (yellow) vs  Dow (black) vs SP500 (red)'\n",
    ")\n",
    "\n",
    "a2 = alt.Chart(df_agg).mark_circle(color='black',size=40).encode(\n",
    "    x='Date:T',\n",
    "    y='cumreturndow:Q',\n",
    "\n",
    ").properties(\n",
    "    width=1000,\n",
    "    height=1000\n",
    ")\n",
    "\n",
    "a3 = alt.Chart(df_agg).mark_tick(color='red').encode(\n",
    "    x='Date:T',\n",
    "    y='cumreturnsp500:Q',\n",
    "\n",
    ").properties(\n",
    "    width=1000,\n",
    "    height=1000\n",
    ")\n",
    "\n",
    "a4 = alt.Chart(df_agg).mark_line(color='brown').encode(\n",
    "    x='Date:T',\n",
    "    y='cumreturn1a:Q',\n",
    "\n",
    ").properties(\n",
    "    width=1000,\n",
    "    height=1000\n",
    ")\n",
    "\n",
    "a5 = alt.Chart(df_agg).mark_line(color='yellow').encode(\n",
    "    x='Date:T',\n",
    "    y='cumreturn1b:Q',\n",
    "\n",
    ").properties(\n",
    "    width=1000,\n",
    "    height=1000\n",
    ")\n",
    "\n",
    "a1 + a2 + a3 + a4 + a5"
   ]
  }
 ],
 "metadata": {
  "kernelspec": {
   "display_name": "Python 3",
   "language": "python",
   "name": "python3"
  },
  "language_info": {
   "codemirror_mode": {
    "name": "ipython",
    "version": 3
   },
   "file_extension": ".py",
   "mimetype": "text/x-python",
   "name": "python",
   "nbconvert_exporter": "python",
   "pygments_lexer": "ipython3",
   "version": "3.7.6"
  }
 },
 "nbformat": 4,
 "nbformat_minor": 4
}
