{
 "cells": [
  {
   "cell_type": "markdown",
   "metadata": {},
   "source": [
    "# \"2019 July One Day Holding Long Short Portfolio BackTest\"\n",
    "> \"2019 July Portfolio\"\n",
    "- toc: false\n",
    "- branch: master\n",
    "- badges: false\n",
    "- comments: true\n",
    "- categories: [long, short, longshort]\n",
    "- hide: false\n",
    "- search_exclude: true\n",
    "- metadata_key1: metadata_value1\n",
    "- metadata_key2: metadata_value2"
   ]
  },
  {
   "cell_type": "code",
   "execution_count": 13,
   "metadata": {},
   "outputs": [],
   "source": [
    "#hide_input\n",
    "import numpy as np\n",
    "import pandas as pd\n",
    "import seaborn as sns\n",
    "import os\n",
    "import time\n",
    "import gc\n",
    "import glob\n",
    "import matplotlib.pyplot as plt"
   ]
  },
  {
   "cell_type": "code",
   "execution_count": 14,
   "metadata": {},
   "outputs": [],
   "source": [
    "#hide_input\n",
    "df_testp=pd.read_csv('D:\\\\Downloads\\\\20194dayreturnpred2019train60K.csv')"
   ]
  },
  {
   "cell_type": "code",
   "execution_count": 15,
   "metadata": {},
   "outputs": [],
   "source": [
    "#hide\n",
    "df_testp=df_testp.loc[df_testp.Date>=20190701].loc[df_testp.Date<20190801].sort_values(by='Date',ascending=True).copy()"
   ]
  },
  {
   "cell_type": "markdown",
   "metadata": {},
   "source": [
    "**Long-Short Portfolio**"
   ]
  },
  {
   "cell_type": "code",
   "execution_count": 16,
   "metadata": {},
   "outputs": [
    {
     "name": "stderr",
     "output_type": "stream",
     "text": [
      "C:\\ProgramData\\Anaconda3\\lib\\site-packages\\ipykernel_launcher.py:5: SettingWithCopyWarning: \n",
      "A value is trying to be set on a copy of a slice from a DataFrame\n",
      "\n",
      "See the caveats in the documentation: https://pandas.pydata.org/pandas-docs/stable/user_guide/indexing.html#returning-a-view-versus-a-copy\n",
      "  \"\"\"\n"
     ]
    }
   ],
   "source": [
    "\n",
    "#hide\n",
    "df_agg=df_testp[['Date','pred','labelr1']].groupby(['Date','pred']).sum().reset_index();\n",
    "df_agg['cumreturn1']=0.0\n",
    "for l in range(len(df_agg)):\n",
    "    df_agg['cumreturn1'][l]=np.prod((1+(df_agg['labelr1']/100))[:l])\n",
    "\n"
   ]
  },
  {
   "cell_type": "code",
   "execution_count": 17,
   "metadata": {},
   "outputs": [
    {
     "data": {
      "text/html": [
       "<div>\n",
       "<style scoped>\n",
       "    .dataframe tbody tr th:only-of-type {\n",
       "        vertical-align: middle;\n",
       "    }\n",
       "\n",
       "    .dataframe tbody tr th {\n",
       "        vertical-align: top;\n",
       "    }\n",
       "\n",
       "    .dataframe thead th {\n",
       "        text-align: right;\n",
       "    }\n",
       "</style>\n",
       "<table border=\"1\" class=\"dataframe\">\n",
       "  <thead>\n",
       "    <tr style=\"text-align: right;\">\n",
       "      <th></th>\n",
       "      <th>Date</th>\n",
       "      <th>pred</th>\n",
       "      <th>labelr1</th>\n",
       "      <th>cumreturn1</th>\n",
       "    </tr>\n",
       "  </thead>\n",
       "  <tbody>\n",
       "    <tr>\n",
       "      <th>0</th>\n",
       "      <td>20190701</td>\n",
       "      <td>-1.0</td>\n",
       "      <td>-6.086957</td>\n",
       "      <td>1.000000</td>\n",
       "    </tr>\n",
       "    <tr>\n",
       "      <th>1</th>\n",
       "      <td>20190701</td>\n",
       "      <td>1.0</td>\n",
       "      <td>-6.183139</td>\n",
       "      <td>0.939130</td>\n",
       "    </tr>\n",
       "    <tr>\n",
       "      <th>2</th>\n",
       "      <td>20190703</td>\n",
       "      <td>1.0</td>\n",
       "      <td>0.000000</td>\n",
       "      <td>0.881063</td>\n",
       "    </tr>\n",
       "    <tr>\n",
       "      <th>3</th>\n",
       "      <td>20190709</td>\n",
       "      <td>1.0</td>\n",
       "      <td>16.502463</td>\n",
       "      <td>0.881063</td>\n",
       "    </tr>\n",
       "    <tr>\n",
       "      <th>4</th>\n",
       "      <td>20190710</td>\n",
       "      <td>1.0</td>\n",
       "      <td>0.000000</td>\n",
       "      <td>1.026460</td>\n",
       "    </tr>\n",
       "    <tr>\n",
       "      <th>5</th>\n",
       "      <td>20190711</td>\n",
       "      <td>1.0</td>\n",
       "      <td>-0.748663</td>\n",
       "      <td>1.026460</td>\n",
       "    </tr>\n",
       "    <tr>\n",
       "      <th>6</th>\n",
       "      <td>20190712</td>\n",
       "      <td>-1.0</td>\n",
       "      <td>0.000000</td>\n",
       "      <td>1.018775</td>\n",
       "    </tr>\n",
       "    <tr>\n",
       "      <th>7</th>\n",
       "      <td>20190712</td>\n",
       "      <td>1.0</td>\n",
       "      <td>9.459459</td>\n",
       "      <td>1.018775</td>\n",
       "    </tr>\n",
       "    <tr>\n",
       "      <th>8</th>\n",
       "      <td>20190715</td>\n",
       "      <td>1.0</td>\n",
       "      <td>5.008746</td>\n",
       "      <td>1.115146</td>\n",
       "    </tr>\n",
       "    <tr>\n",
       "      <th>9</th>\n",
       "      <td>20190716</td>\n",
       "      <td>1.0</td>\n",
       "      <td>5.172414</td>\n",
       "      <td>1.171000</td>\n",
       "    </tr>\n",
       "    <tr>\n",
       "      <th>10</th>\n",
       "      <td>20190718</td>\n",
       "      <td>1.0</td>\n",
       "      <td>0.692620</td>\n",
       "      <td>1.231569</td>\n",
       "    </tr>\n",
       "    <tr>\n",
       "      <th>11</th>\n",
       "      <td>20190719</td>\n",
       "      <td>-1.0</td>\n",
       "      <td>-7.500000</td>\n",
       "      <td>1.240100</td>\n",
       "    </tr>\n",
       "    <tr>\n",
       "      <th>12</th>\n",
       "      <td>20190719</td>\n",
       "      <td>1.0</td>\n",
       "      <td>-0.204671</td>\n",
       "      <td>1.147092</td>\n",
       "    </tr>\n",
       "    <tr>\n",
       "      <th>13</th>\n",
       "      <td>20190722</td>\n",
       "      <td>1.0</td>\n",
       "      <td>-12.045306</td>\n",
       "      <td>1.144744</td>\n",
       "    </tr>\n",
       "    <tr>\n",
       "      <th>14</th>\n",
       "      <td>20190723</td>\n",
       "      <td>1.0</td>\n",
       "      <td>25.000000</td>\n",
       "      <td>1.006856</td>\n",
       "    </tr>\n",
       "    <tr>\n",
       "      <th>15</th>\n",
       "      <td>20190724</td>\n",
       "      <td>1.0</td>\n",
       "      <td>-0.150263</td>\n",
       "      <td>1.258570</td>\n",
       "    </tr>\n",
       "    <tr>\n",
       "      <th>16</th>\n",
       "      <td>20190725</td>\n",
       "      <td>1.0</td>\n",
       "      <td>-0.428980</td>\n",
       "      <td>1.256679</td>\n",
       "    </tr>\n",
       "    <tr>\n",
       "      <th>17</th>\n",
       "      <td>20190726</td>\n",
       "      <td>1.0</td>\n",
       "      <td>-4.006666</td>\n",
       "      <td>1.251288</td>\n",
       "    </tr>\n",
       "    <tr>\n",
       "      <th>18</th>\n",
       "      <td>20190729</td>\n",
       "      <td>1.0</td>\n",
       "      <td>3.411131</td>\n",
       "      <td>1.201153</td>\n",
       "    </tr>\n",
       "    <tr>\n",
       "      <th>19</th>\n",
       "      <td>20190730</td>\n",
       "      <td>1.0</td>\n",
       "      <td>-6.862289</td>\n",
       "      <td>1.242126</td>\n",
       "    </tr>\n",
       "  </tbody>\n",
       "</table>\n",
       "</div>"
      ],
      "text/plain": [
       "        Date  pred    labelr1  cumreturn1\n",
       "0   20190701  -1.0  -6.086957    1.000000\n",
       "1   20190701   1.0  -6.183139    0.939130\n",
       "2   20190703   1.0   0.000000    0.881063\n",
       "3   20190709   1.0  16.502463    0.881063\n",
       "4   20190710   1.0   0.000000    1.026460\n",
       "5   20190711   1.0  -0.748663    1.026460\n",
       "6   20190712  -1.0   0.000000    1.018775\n",
       "7   20190712   1.0   9.459459    1.018775\n",
       "8   20190715   1.0   5.008746    1.115146\n",
       "9   20190716   1.0   5.172414    1.171000\n",
       "10  20190718   1.0   0.692620    1.231569\n",
       "11  20190719  -1.0  -7.500000    1.240100\n",
       "12  20190719   1.0  -0.204671    1.147092\n",
       "13  20190722   1.0 -12.045306    1.144744\n",
       "14  20190723   1.0  25.000000    1.006856\n",
       "15  20190724   1.0  -0.150263    1.258570\n",
       "16  20190725   1.0  -0.428980    1.256679\n",
       "17  20190726   1.0  -4.006666    1.251288\n",
       "18  20190729   1.0   3.411131    1.201153\n",
       "19  20190730   1.0  -6.862289    1.242126"
      ]
     },
     "execution_count": 17,
     "metadata": {},
     "output_type": "execute_result"
    }
   ],
   "source": [
    "#hide_input\n",
    "df_agg"
   ]
  },
  {
   "cell_type": "code",
   "execution_count": 18,
   "metadata": {},
   "outputs": [
    {
     "data": {
      "image/png": "[encoded data removed]",
      "text/plain": [
       "<Figure size 1440x864 with 1 Axes>"
      ]
     },
     "metadata": {
      "needs_background": "light"
     },
     "output_type": "display_data"
    }
   ],
   "source": [
    "#hide_input\n",
    "fig, a1 = plt.subplots(figsize=(20, 12))\n",
    "\n",
    "color = 'tab:red'\n",
    "a1.set_xlabel('No of Observations (s)',color='tab:green')\n",
    "a1.set_ylabel('Return (1dayholding:red,2dayholding:pink,3dayholding:brown,4dayholding:blue )', color='tab:green')\n",
    "a1.plot(df_agg['Date'], df_agg['cumreturn1'], color=color,linestyle='--')\n",
    "a1.tick_params(axis='y', labelcolor='tab:green')\n",
    "a1.tick_params(axis='x', labelcolor='tab:green')\n",
    "\n",
    "a,b = 0,10\n",
    "a1.set_ylim(a,b)\n",
    "\n",
    "\n",
    "x,y =df_agg['Date'].min(),df_agg['Date'].max()\n",
    "a1.set_xlim(x,y)\n",
    "\n",
    "\n",
    "\n",
    "fig.tight_layout()"
   ]
  },
  {
   "cell_type": "markdown",
   "metadata": {},
   "source": [
    "**Long portfolio**"
   ]
  },
  {
   "cell_type": "code",
   "execution_count": 19,
   "metadata": {},
   "outputs": [
    {
     "name": "stderr",
     "output_type": "stream",
     "text": [
      "C:\\ProgramData\\Anaconda3\\lib\\site-packages\\ipykernel_launcher.py:5: SettingWithCopyWarning: \n",
      "A value is trying to be set on a copy of a slice from a DataFrame\n",
      "\n",
      "See the caveats in the documentation: https://pandas.pydata.org/pandas-docs/stable/user_guide/indexing.html#returning-a-view-versus-a-copy\n",
      "  \"\"\"\n"
     ]
    }
   ],
   "source": [
    "#hide\n",
    "df_agg=df_testp[['Date','pred','labelr1']].loc[df_testp.pred==1.0].groupby(['Date','pred']).sum().reset_index();\n",
    "df_agg['cumreturn1']=0.0\n",
    "for l in range(len(df_agg)):\n",
    "    df_agg['cumreturn1'][l]=np.prod((1+(df_agg['labelr1']/100))[:l])\n",
    "\n"
   ]
  },
  {
   "cell_type": "code",
   "execution_count": 20,
   "metadata": {},
   "outputs": [
    {
     "data": {
      "text/html": [
       "<div>\n",
       "<style scoped>\n",
       "    .dataframe tbody tr th:only-of-type {\n",
       "        vertical-align: middle;\n",
       "    }\n",
       "\n",
       "    .dataframe tbody tr th {\n",
       "        vertical-align: top;\n",
       "    }\n",
       "\n",
       "    .dataframe thead th {\n",
       "        text-align: right;\n",
       "    }\n",
       "</style>\n",
       "<table border=\"1\" class=\"dataframe\">\n",
       "  <thead>\n",
       "    <tr style=\"text-align: right;\">\n",
       "      <th></th>\n",
       "      <th>Date</th>\n",
       "      <th>pred</th>\n",
       "      <th>labelr1</th>\n",
       "      <th>cumreturn1</th>\n",
       "    </tr>\n",
       "  </thead>\n",
       "  <tbody>\n",
       "    <tr>\n",
       "      <th>0</th>\n",
       "      <td>20190701</td>\n",
       "      <td>1.0</td>\n",
       "      <td>-6.183139</td>\n",
       "      <td>1.000000</td>\n",
       "    </tr>\n",
       "    <tr>\n",
       "      <th>1</th>\n",
       "      <td>20190703</td>\n",
       "      <td>1.0</td>\n",
       "      <td>0.000000</td>\n",
       "      <td>0.938169</td>\n",
       "    </tr>\n",
       "    <tr>\n",
       "      <th>2</th>\n",
       "      <td>20190709</td>\n",
       "      <td>1.0</td>\n",
       "      <td>16.502463</td>\n",
       "      <td>0.938169</td>\n",
       "    </tr>\n",
       "    <tr>\n",
       "      <th>3</th>\n",
       "      <td>20190710</td>\n",
       "      <td>1.0</td>\n",
       "      <td>0.000000</td>\n",
       "      <td>1.092990</td>\n",
       "    </tr>\n",
       "    <tr>\n",
       "      <th>4</th>\n",
       "      <td>20190711</td>\n",
       "      <td>1.0</td>\n",
       "      <td>-0.748663</td>\n",
       "      <td>1.092990</td>\n",
       "    </tr>\n",
       "    <tr>\n",
       "      <th>5</th>\n",
       "      <td>20190712</td>\n",
       "      <td>1.0</td>\n",
       "      <td>9.459459</td>\n",
       "      <td>1.084807</td>\n",
       "    </tr>\n",
       "    <tr>\n",
       "      <th>6</th>\n",
       "      <td>20190715</td>\n",
       "      <td>1.0</td>\n",
       "      <td>5.008746</td>\n",
       "      <td>1.187424</td>\n",
       "    </tr>\n",
       "    <tr>\n",
       "      <th>7</th>\n",
       "      <td>20190716</td>\n",
       "      <td>1.0</td>\n",
       "      <td>5.172414</td>\n",
       "      <td>1.246899</td>\n",
       "    </tr>\n",
       "    <tr>\n",
       "      <th>8</th>\n",
       "      <td>20190718</td>\n",
       "      <td>1.0</td>\n",
       "      <td>0.692620</td>\n",
       "      <td>1.311393</td>\n",
       "    </tr>\n",
       "    <tr>\n",
       "      <th>9</th>\n",
       "      <td>20190719</td>\n",
       "      <td>1.0</td>\n",
       "      <td>-0.204671</td>\n",
       "      <td>1.320476</td>\n",
       "    </tr>\n",
       "    <tr>\n",
       "      <th>10</th>\n",
       "      <td>20190722</td>\n",
       "      <td>1.0</td>\n",
       "      <td>-12.045306</td>\n",
       "      <td>1.317774</td>\n",
       "    </tr>\n",
       "    <tr>\n",
       "      <th>11</th>\n",
       "      <td>20190723</td>\n",
       "      <td>1.0</td>\n",
       "      <td>25.000000</td>\n",
       "      <td>1.159044</td>\n",
       "    </tr>\n",
       "    <tr>\n",
       "      <th>12</th>\n",
       "      <td>20190724</td>\n",
       "      <td>1.0</td>\n",
       "      <td>-0.150263</td>\n",
       "      <td>1.448805</td>\n",
       "    </tr>\n",
       "    <tr>\n",
       "      <th>13</th>\n",
       "      <td>20190725</td>\n",
       "      <td>1.0</td>\n",
       "      <td>-0.428980</td>\n",
       "      <td>1.446628</td>\n",
       "    </tr>\n",
       "    <tr>\n",
       "      <th>14</th>\n",
       "      <td>20190726</td>\n",
       "      <td>1.0</td>\n",
       "      <td>-4.006666</td>\n",
       "      <td>1.440422</td>\n",
       "    </tr>\n",
       "    <tr>\n",
       "      <th>15</th>\n",
       "      <td>20190729</td>\n",
       "      <td>1.0</td>\n",
       "      <td>3.411131</td>\n",
       "      <td>1.382709</td>\n",
       "    </tr>\n",
       "    <tr>\n",
       "      <th>16</th>\n",
       "      <td>20190730</td>\n",
       "      <td>1.0</td>\n",
       "      <td>-6.862289</td>\n",
       "      <td>1.429875</td>\n",
       "    </tr>\n",
       "  </tbody>\n",
       "</table>\n",
       "</div>"
      ],
      "text/plain": [
       "        Date  pred    labelr1  cumreturn1\n",
       "0   20190701   1.0  -6.183139    1.000000\n",
       "1   20190703   1.0   0.000000    0.938169\n",
       "2   20190709   1.0  16.502463    0.938169\n",
       "3   20190710   1.0   0.000000    1.092990\n",
       "4   20190711   1.0  -0.748663    1.092990\n",
       "5   20190712   1.0   9.459459    1.084807\n",
       "6   20190715   1.0   5.008746    1.187424\n",
       "7   20190716   1.0   5.172414    1.246899\n",
       "8   20190718   1.0   0.692620    1.311393\n",
       "9   20190719   1.0  -0.204671    1.320476\n",
       "10  20190722   1.0 -12.045306    1.317774\n",
       "11  20190723   1.0  25.000000    1.159044\n",
       "12  20190724   1.0  -0.150263    1.448805\n",
       "13  20190725   1.0  -0.428980    1.446628\n",
       "14  20190726   1.0  -4.006666    1.440422\n",
       "15  20190729   1.0   3.411131    1.382709\n",
       "16  20190730   1.0  -6.862289    1.429875"
      ]
     },
     "execution_count": 20,
     "metadata": {},
     "output_type": "execute_result"
    }
   ],
   "source": [
    "#hide_input\n",
    "df_agg"
   ]
  },
  {
   "cell_type": "code",
   "execution_count": 21,
   "metadata": {},
   "outputs": [
    {
     "data": {
      "image/png": "[encoded data removed]",
      "text/plain": [
       "<Figure size 1440x864 with 1 Axes>"
      ]
     },
     "metadata": {
      "needs_background": "light"
     },
     "output_type": "display_data"
    }
   ],
   "source": [
    "#hide_input\n",
    "fig, a1 = plt.subplots(figsize=(20, 12))\n",
    "\n",
    "color = 'tab:red'\n",
    "a1.set_xlabel('No of Observations (s)',color='tab:green')\n",
    "a1.set_ylabel('Return (1dayholding:red,2dayholding:pink,3dayholding:brown,4dayholding:blue )', color='tab:green')\n",
    "a1.plot(df_agg['Date'], df_agg['cumreturn1'], color=color,linestyle='--')\n",
    "a1.tick_params(axis='y', labelcolor='tab:green')\n",
    "a1.tick_params(axis='x', labelcolor='tab:green')\n",
    "\n",
    "a,b = 0,10\n",
    "a1.set_ylim(a,b)\n",
    "\n",
    "\n",
    "x,y =df_agg['Date'].min(),df_agg['Date'].max()\n",
    "a1.set_xlim(x,y)\n",
    "\n",
    "\n",
    "\n",
    "fig.tight_layout()"
   ]
  },
  {
   "cell_type": "markdown",
   "metadata": {},
   "source": [
    "**Short Portfolio**"
   ]
  },
  {
   "cell_type": "code",
   "execution_count": 22,
   "metadata": {},
   "outputs": [
    {
     "name": "stderr",
     "output_type": "stream",
     "text": [
      "C:\\ProgramData\\Anaconda3\\lib\\site-packages\\ipykernel_launcher.py:5: SettingWithCopyWarning: \n",
      "A value is trying to be set on a copy of a slice from a DataFrame\n",
      "\n",
      "See the caveats in the documentation: https://pandas.pydata.org/pandas-docs/stable/user_guide/indexing.html#returning-a-view-versus-a-copy\n",
      "  \"\"\"\n"
     ]
    }
   ],
   "source": [
    "#hide\n",
    "df_agg=df_testp[['Date','pred','labelr1']].loc[df_testp.pred==-1.0].groupby(['Date','pred']).sum().reset_index();\n",
    "df_agg['cumreturn1']=0.0\n",
    "for l in range(len(df_agg)):\n",
    "    df_agg['cumreturn1'][l]=np.prod((1+(df_agg['labelr1']/100))[:l])\n",
    "\n"
   ]
  },
  {
   "cell_type": "code",
   "execution_count": 23,
   "metadata": {},
   "outputs": [
    {
     "data": {
      "text/html": [
       "<div>\n",
       "<style scoped>\n",
       "    .dataframe tbody tr th:only-of-type {\n",
       "        vertical-align: middle;\n",
       "    }\n",
       "\n",
       "    .dataframe tbody tr th {\n",
       "        vertical-align: top;\n",
       "    }\n",
       "\n",
       "    .dataframe thead th {\n",
       "        text-align: right;\n",
       "    }\n",
       "</style>\n",
       "<table border=\"1\" class=\"dataframe\">\n",
       "  <thead>\n",
       "    <tr style=\"text-align: right;\">\n",
       "      <th></th>\n",
       "      <th>Date</th>\n",
       "      <th>pred</th>\n",
       "      <th>labelr1</th>\n",
       "      <th>cumreturn1</th>\n",
       "    </tr>\n",
       "  </thead>\n",
       "  <tbody>\n",
       "    <tr>\n",
       "      <th>0</th>\n",
       "      <td>20190701</td>\n",
       "      <td>-1.0</td>\n",
       "      <td>-6.086957</td>\n",
       "      <td>1.00000</td>\n",
       "    </tr>\n",
       "    <tr>\n",
       "      <th>1</th>\n",
       "      <td>20190712</td>\n",
       "      <td>-1.0</td>\n",
       "      <td>0.000000</td>\n",
       "      <td>0.93913</td>\n",
       "    </tr>\n",
       "    <tr>\n",
       "      <th>2</th>\n",
       "      <td>20190719</td>\n",
       "      <td>-1.0</td>\n",
       "      <td>-7.500000</td>\n",
       "      <td>0.93913</td>\n",
       "    </tr>\n",
       "  </tbody>\n",
       "</table>\n",
       "</div>"
      ],
      "text/plain": [
       "       Date  pred   labelr1  cumreturn1\n",
       "0  20190701  -1.0 -6.086957     1.00000\n",
       "1  20190712  -1.0  0.000000     0.93913\n",
       "2  20190719  -1.0 -7.500000     0.93913"
      ]
     },
     "execution_count": 23,
     "metadata": {},
     "output_type": "execute_result"
    }
   ],
   "source": [
    "#hide_input\n",
    "df_agg"
   ]
  },
  {
   "cell_type": "code",
   "execution_count": 24,
   "metadata": {},
   "outputs": [
    {
     "data": {
      "image/png": "[encoded data removed]",
      "text/plain": [
       "<Figure size 1440x864 with 1 Axes>"
      ]
     },
     "metadata": {
      "needs_background": "light"
     },
     "output_type": "display_data"
    }
   ],
   "source": [
    "#hide\n",
    "fig, a1 = plt.subplots(figsize=(20, 12))\n",
    "\n",
    "color = 'tab:red'\n",
    "a1.set_xlabel('No of Observations (s)',color='tab:green')\n",
    "a1.set_ylabel('Return (1dayholding:red,2dayholding:pink,3dayholding:brown,4dayholding:blue )', color='tab:green')\n",
    "a1.plot(df_agg['Date'], df_agg['cumreturn1'], color=color,linestyle='--')\n",
    "a1.tick_params(axis='y', labelcolor='tab:green')\n",
    "a1.tick_params(axis='x', labelcolor='tab:green')\n",
    "\n",
    "a,b = 0,10\n",
    "a1.set_ylim(a,b)\n",
    "\n",
    "\n",
    "x,y =df_agg['Date'].min(),df_agg['Date'].max()\n",
    "a1.set_xlim(x,y)\n",
    "\n",
    "\n",
    "\n",
    "fig.tight_layout()"
   ]
  }
 ],
 "metadata": {
  "kernelspec": {
   "display_name": "Python 3",
   "language": "python",
   "name": "python3"
  },
  "language_info": {
   "codemirror_mode": {
    "name": "ipython",
    "version": 3
   },
   "file_extension": ".py",
   "mimetype": "text/x-python",
   "name": "python",
   "nbconvert_exporter": "python",
   "pygments_lexer": "ipython3",
   "version": "3.7.6"
  }
 },
 "nbformat": 4,
 "nbformat_minor": 4
}
