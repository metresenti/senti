{
 "cells": [
  {
   "cell_type": "markdown",
   "metadata": {},
   "source": [
    "# \"2019 September One Day Holding Long Short Portfolio BackTest\"\n",
    "> \"2019 September Portfolio\"\n",
    "- toc: false\n",
    "- branch: master\n",
    "- badges: false\n",
    "- comments: true\n",
    "- categories: [long, short, longshort]\n",
    "- hide: false\n",
    "- search_exclude: true\n",
    "- metadata_key1: metadata_value1\n",
    "- metadata_key2: metadata_value2"
   ]
  },
  {
   "cell_type": "code",
   "execution_count": 13,
   "metadata": {},
   "outputs": [],
   "source": [
    "#hide_input\n",
    "import numpy as np\n",
    "import pandas as pd\n",
    "import seaborn as sns\n",
    "import os\n",
    "import time\n",
    "import gc\n",
    "import glob\n",
    "import matplotlib.pyplot as plt"
   ]
  },
  {
   "cell_type": "code",
   "execution_count": 14,
   "metadata": {},
   "outputs": [],
   "source": [
    "#hide_input\n",
    "df_testp=pd.read_csv('D:\\\\Downloads\\\\20194dayreturnpred2019train60K.csv')"
   ]
  },
  {
   "cell_type": "code",
   "execution_count": 15,
   "metadata": {},
   "outputs": [],
   "source": [
    "#hide\n",
    "df_testp=df_testp.loc[df_testp.Date>=20190901].loc[df_testp.Date<20191001].sort_values(by='Date',ascending=True).copy()"
   ]
  },
  {
   "cell_type": "markdown",
   "metadata": {},
   "source": [
    "**Long-Short Portfolio**"
   ]
  },
  {
   "cell_type": "code",
   "execution_count": 16,
   "metadata": {},
   "outputs": [
    {
     "name": "stderr",
     "output_type": "stream",
     "text": [
      "C:\\ProgramData\\Anaconda3\\lib\\site-packages\\ipykernel_launcher.py:5: SettingWithCopyWarning: \n",
      "A value is trying to be set on a copy of a slice from a DataFrame\n",
      "\n",
      "See the caveats in the documentation: https://pandas.pydata.org/pandas-docs/stable/user_guide/indexing.html#returning-a-view-versus-a-copy\n",
      "  \"\"\"\n"
     ]
    }
   ],
   "source": [
    "#hide\n",
    "df_agg=df_testp[['Date','pred','labelr1']].groupby(['Date','pred']).sum().reset_index();\n",
    "df_agg['cumreturn1']=0.0\n",
    "for l in range(len(df_agg)):\n",
    "    df_agg['cumreturn1'][l]=np.prod((1+(df_agg['labelr1']/100))[:l])\n",
    "\n"
   ]
  },
  {
   "cell_type": "code",
   "execution_count": 17,
   "metadata": {},
   "outputs": [
    {
     "data": {
      "text/html": [
       "<div>\n",
       "<style scoped>\n",
       "    .dataframe tbody tr th:only-of-type {\n",
       "        vertical-align: middle;\n",
       "    }\n",
       "\n",
       "    .dataframe tbody tr th {\n",
       "        vertical-align: top;\n",
       "    }\n",
       "\n",
       "    .dataframe thead th {\n",
       "        text-align: right;\n",
       "    }\n",
       "</style>\n",
       "<table border=\"1\" class=\"dataframe\">\n",
       "  <thead>\n",
       "    <tr style=\"text-align: right;\">\n",
       "      <th></th>\n",
       "      <th>Date</th>\n",
       "      <th>pred</th>\n",
       "      <th>labelr1</th>\n",
       "      <th>cumreturn1</th>\n",
       "    </tr>\n",
       "  </thead>\n",
       "  <tbody>\n",
       "    <tr>\n",
       "      <th>0</th>\n",
       "      <td>20190904</td>\n",
       "      <td>1.0</td>\n",
       "      <td>86.237177</td>\n",
       "      <td>1.000000</td>\n",
       "    </tr>\n",
       "    <tr>\n",
       "      <th>1</th>\n",
       "      <td>20190905</td>\n",
       "      <td>1.0</td>\n",
       "      <td>-10.536469</td>\n",
       "      <td>1.862372</td>\n",
       "    </tr>\n",
       "    <tr>\n",
       "      <th>2</th>\n",
       "      <td>20190906</td>\n",
       "      <td>1.0</td>\n",
       "      <td>-0.662541</td>\n",
       "      <td>1.666144</td>\n",
       "    </tr>\n",
       "    <tr>\n",
       "      <th>3</th>\n",
       "      <td>20190909</td>\n",
       "      <td>1.0</td>\n",
       "      <td>-2.055119</td>\n",
       "      <td>1.655105</td>\n",
       "    </tr>\n",
       "    <tr>\n",
       "      <th>4</th>\n",
       "      <td>20190910</td>\n",
       "      <td>1.0</td>\n",
       "      <td>-1.822510</td>\n",
       "      <td>1.621090</td>\n",
       "    </tr>\n",
       "    <tr>\n",
       "      <th>5</th>\n",
       "      <td>20190911</td>\n",
       "      <td>1.0</td>\n",
       "      <td>-0.364865</td>\n",
       "      <td>1.591546</td>\n",
       "    </tr>\n",
       "    <tr>\n",
       "      <th>6</th>\n",
       "      <td>20190912</td>\n",
       "      <td>-1.0</td>\n",
       "      <td>12.796117</td>\n",
       "      <td>1.585739</td>\n",
       "    </tr>\n",
       "    <tr>\n",
       "      <th>7</th>\n",
       "      <td>20190912</td>\n",
       "      <td>1.0</td>\n",
       "      <td>-34.801836</td>\n",
       "      <td>1.788652</td>\n",
       "    </tr>\n",
       "    <tr>\n",
       "      <th>8</th>\n",
       "      <td>20190913</td>\n",
       "      <td>1.0</td>\n",
       "      <td>4.909809</td>\n",
       "      <td>1.166168</td>\n",
       "    </tr>\n",
       "    <tr>\n",
       "      <th>9</th>\n",
       "      <td>20190916</td>\n",
       "      <td>1.0</td>\n",
       "      <td>-6.230648</td>\n",
       "      <td>1.223425</td>\n",
       "    </tr>\n",
       "    <tr>\n",
       "      <th>10</th>\n",
       "      <td>20190918</td>\n",
       "      <td>1.0</td>\n",
       "      <td>1.224490</td>\n",
       "      <td>1.147197</td>\n",
       "    </tr>\n",
       "    <tr>\n",
       "      <th>11</th>\n",
       "      <td>20190919</td>\n",
       "      <td>1.0</td>\n",
       "      <td>50.000000</td>\n",
       "      <td>1.161245</td>\n",
       "    </tr>\n",
       "    <tr>\n",
       "      <th>12</th>\n",
       "      <td>20190923</td>\n",
       "      <td>1.0</td>\n",
       "      <td>2.173913</td>\n",
       "      <td>1.741867</td>\n",
       "    </tr>\n",
       "    <tr>\n",
       "      <th>13</th>\n",
       "      <td>20190924</td>\n",
       "      <td>-1.0</td>\n",
       "      <td>-3.333333</td>\n",
       "      <td>1.779734</td>\n",
       "    </tr>\n",
       "    <tr>\n",
       "      <th>14</th>\n",
       "      <td>20190924</td>\n",
       "      <td>1.0</td>\n",
       "      <td>1.128156</td>\n",
       "      <td>1.720409</td>\n",
       "    </tr>\n",
       "    <tr>\n",
       "      <th>15</th>\n",
       "      <td>20190925</td>\n",
       "      <td>1.0</td>\n",
       "      <td>-7.500000</td>\n",
       "      <td>1.739818</td>\n",
       "    </tr>\n",
       "    <tr>\n",
       "      <th>16</th>\n",
       "      <td>20190926</td>\n",
       "      <td>1.0</td>\n",
       "      <td>2.913971</td>\n",
       "      <td>1.609332</td>\n",
       "    </tr>\n",
       "    <tr>\n",
       "      <th>17</th>\n",
       "      <td>20190927</td>\n",
       "      <td>1.0</td>\n",
       "      <td>-14.353132</td>\n",
       "      <td>1.656227</td>\n",
       "    </tr>\n",
       "    <tr>\n",
       "      <th>18</th>\n",
       "      <td>20190930</td>\n",
       "      <td>-1.0</td>\n",
       "      <td>0.000000</td>\n",
       "      <td>1.418507</td>\n",
       "    </tr>\n",
       "    <tr>\n",
       "      <th>19</th>\n",
       "      <td>20190930</td>\n",
       "      <td>1.0</td>\n",
       "      <td>4.569146</td>\n",
       "      <td>1.418507</td>\n",
       "    </tr>\n",
       "  </tbody>\n",
       "</table>\n",
       "</div>"
      ],
      "text/plain": [
       "        Date  pred    labelr1  cumreturn1\n",
       "0   20190904   1.0  86.237177    1.000000\n",
       "1   20190905   1.0 -10.536469    1.862372\n",
       "2   20190906   1.0  -0.662541    1.666144\n",
       "3   20190909   1.0  -2.055119    1.655105\n",
       "4   20190910   1.0  -1.822510    1.621090\n",
       "5   20190911   1.0  -0.364865    1.591546\n",
       "6   20190912  -1.0  12.796117    1.585739\n",
       "7   20190912   1.0 -34.801836    1.788652\n",
       "8   20190913   1.0   4.909809    1.166168\n",
       "9   20190916   1.0  -6.230648    1.223425\n",
       "10  20190918   1.0   1.224490    1.147197\n",
       "11  20190919   1.0  50.000000    1.161245\n",
       "12  20190923   1.0   2.173913    1.741867\n",
       "13  20190924  -1.0  -3.333333    1.779734\n",
       "14  20190924   1.0   1.128156    1.720409\n",
       "15  20190925   1.0  -7.500000    1.739818\n",
       "16  20190926   1.0   2.913971    1.609332\n",
       "17  20190927   1.0 -14.353132    1.656227\n",
       "18  20190930  -1.0   0.000000    1.418507\n",
       "19  20190930   1.0   4.569146    1.418507"
      ]
     },
     "execution_count": 17,
     "metadata": {},
     "output_type": "execute_result"
    }
   ],
   "source": [
    "#hide_input\n",
    "df_agg"
   ]
  },
  {
   "cell_type": "code",
   "execution_count": 18,
   "metadata": {},
   "outputs": [
    {
     "data": {
      "image/png": "[encoded data removed]",
      "text/plain": [
       "<Figure size 1440x864 with 1 Axes>"
      ]
     },
     "metadata": {
      "needs_background": "light"
     },
     "output_type": "display_data"
    }
   ],
   "source": [
    "#hide_input\n",
    "fig, a1 = plt.subplots(figsize=(20, 12))\n",
    "\n",
    "color = 'tab:red'\n",
    "a1.set_xlabel('No of Observations (s)',color='tab:green')\n",
    "a1.set_ylabel('Return (1dayholding:red,2dayholding:pink,3dayholding:brown,4dayholding:blue )', color='tab:green')\n",
    "a1.plot(df_agg['Date'], df_agg['cumreturn1'], color=color,linestyle='--')\n",
    "a1.tick_params(axis='y', labelcolor='tab:green')\n",
    "a1.tick_params(axis='x', labelcolor='tab:green')\n",
    "\n",
    "a,b = 0,10\n",
    "a1.set_ylim(a,b)\n",
    "\n",
    "\n",
    "x,y =df_agg['Date'].min(),df_agg['Date'].max()\n",
    "a1.set_xlim(x,y)\n",
    "\n",
    "\n",
    "\n",
    "fig.tight_layout()"
   ]
  },
  {
   "cell_type": "markdown",
   "metadata": {},
   "source": [
    "**Long portfolio**"
   ]
  },
  {
   "cell_type": "code",
   "execution_count": 19,
   "metadata": {},
   "outputs": [
    {
     "name": "stderr",
     "output_type": "stream",
     "text": [
      "C:\\ProgramData\\Anaconda3\\lib\\site-packages\\ipykernel_launcher.py:5: SettingWithCopyWarning: \n",
      "A value is trying to be set on a copy of a slice from a DataFrame\n",
      "\n",
      "See the caveats in the documentation: https://pandas.pydata.org/pandas-docs/stable/user_guide/indexing.html#returning-a-view-versus-a-copy\n",
      "  \"\"\"\n"
     ]
    }
   ],
   "source": [
    "#hide\n",
    "df_agg=df_testp[['Date','pred','labelr1']].loc[df_testp.pred==1.0].groupby(['Date','pred']).sum().reset_index();\n",
    "df_agg['cumreturn1']=0.0\n",
    "for l in range(len(df_agg)):\n",
    "    df_agg['cumreturn1'][l]=np.prod((1+(df_agg['labelr1']/100))[:l])\n",
    "\n"
   ]
  },
  {
   "cell_type": "code",
   "execution_count": 20,
   "metadata": {},
   "outputs": [
    {
     "data": {
      "text/html": [
       "<div>\n",
       "<style scoped>\n",
       "    .dataframe tbody tr th:only-of-type {\n",
       "        vertical-align: middle;\n",
       "    }\n",
       "\n",
       "    .dataframe tbody tr th {\n",
       "        vertical-align: top;\n",
       "    }\n",
       "\n",
       "    .dataframe thead th {\n",
       "        text-align: right;\n",
       "    }\n",
       "</style>\n",
       "<table border=\"1\" class=\"dataframe\">\n",
       "  <thead>\n",
       "    <tr style=\"text-align: right;\">\n",
       "      <th></th>\n",
       "      <th>Date</th>\n",
       "      <th>pred</th>\n",
       "      <th>labelr1</th>\n",
       "      <th>cumreturn1</th>\n",
       "    </tr>\n",
       "  </thead>\n",
       "  <tbody>\n",
       "    <tr>\n",
       "      <th>0</th>\n",
       "      <td>20190904</td>\n",
       "      <td>1.0</td>\n",
       "      <td>86.237177</td>\n",
       "      <td>1.000000</td>\n",
       "    </tr>\n",
       "    <tr>\n",
       "      <th>1</th>\n",
       "      <td>20190905</td>\n",
       "      <td>1.0</td>\n",
       "      <td>-10.536469</td>\n",
       "      <td>1.862372</td>\n",
       "    </tr>\n",
       "    <tr>\n",
       "      <th>2</th>\n",
       "      <td>20190906</td>\n",
       "      <td>1.0</td>\n",
       "      <td>-0.662541</td>\n",
       "      <td>1.666144</td>\n",
       "    </tr>\n",
       "    <tr>\n",
       "      <th>3</th>\n",
       "      <td>20190909</td>\n",
       "      <td>1.0</td>\n",
       "      <td>-2.055119</td>\n",
       "      <td>1.655105</td>\n",
       "    </tr>\n",
       "    <tr>\n",
       "      <th>4</th>\n",
       "      <td>20190910</td>\n",
       "      <td>1.0</td>\n",
       "      <td>-1.822510</td>\n",
       "      <td>1.621090</td>\n",
       "    </tr>\n",
       "    <tr>\n",
       "      <th>5</th>\n",
       "      <td>20190911</td>\n",
       "      <td>1.0</td>\n",
       "      <td>-0.364865</td>\n",
       "      <td>1.591546</td>\n",
       "    </tr>\n",
       "    <tr>\n",
       "      <th>6</th>\n",
       "      <td>20190912</td>\n",
       "      <td>1.0</td>\n",
       "      <td>-34.801836</td>\n",
       "      <td>1.585739</td>\n",
       "    </tr>\n",
       "    <tr>\n",
       "      <th>7</th>\n",
       "      <td>20190913</td>\n",
       "      <td>1.0</td>\n",
       "      <td>4.909809</td>\n",
       "      <td>1.033873</td>\n",
       "    </tr>\n",
       "    <tr>\n",
       "      <th>8</th>\n",
       "      <td>20190916</td>\n",
       "      <td>1.0</td>\n",
       "      <td>-6.230648</td>\n",
       "      <td>1.084634</td>\n",
       "    </tr>\n",
       "    <tr>\n",
       "      <th>9</th>\n",
       "      <td>20190918</td>\n",
       "      <td>1.0</td>\n",
       "      <td>1.224490</td>\n",
       "      <td>1.017054</td>\n",
       "    </tr>\n",
       "    <tr>\n",
       "      <th>10</th>\n",
       "      <td>20190919</td>\n",
       "      <td>1.0</td>\n",
       "      <td>50.000000</td>\n",
       "      <td>1.029508</td>\n",
       "    </tr>\n",
       "    <tr>\n",
       "      <th>11</th>\n",
       "      <td>20190923</td>\n",
       "      <td>1.0</td>\n",
       "      <td>2.173913</td>\n",
       "      <td>1.544262</td>\n",
       "    </tr>\n",
       "    <tr>\n",
       "      <th>12</th>\n",
       "      <td>20190924</td>\n",
       "      <td>1.0</td>\n",
       "      <td>1.128156</td>\n",
       "      <td>1.577833</td>\n",
       "    </tr>\n",
       "    <tr>\n",
       "      <th>13</th>\n",
       "      <td>20190925</td>\n",
       "      <td>1.0</td>\n",
       "      <td>-7.500000</td>\n",
       "      <td>1.595633</td>\n",
       "    </tr>\n",
       "    <tr>\n",
       "      <th>14</th>\n",
       "      <td>20190926</td>\n",
       "      <td>1.0</td>\n",
       "      <td>2.913971</td>\n",
       "      <td>1.475960</td>\n",
       "    </tr>\n",
       "    <tr>\n",
       "      <th>15</th>\n",
       "      <td>20190927</td>\n",
       "      <td>1.0</td>\n",
       "      <td>-14.353132</td>\n",
       "      <td>1.518970</td>\n",
       "    </tr>\n",
       "    <tr>\n",
       "      <th>16</th>\n",
       "      <td>20190930</td>\n",
       "      <td>1.0</td>\n",
       "      <td>4.569146</td>\n",
       "      <td>1.300950</td>\n",
       "    </tr>\n",
       "  </tbody>\n",
       "</table>\n",
       "</div>"
      ],
      "text/plain": [
       "        Date  pred    labelr1  cumreturn1\n",
       "0   20190904   1.0  86.237177    1.000000\n",
       "1   20190905   1.0 -10.536469    1.862372\n",
       "2   20190906   1.0  -0.662541    1.666144\n",
       "3   20190909   1.0  -2.055119    1.655105\n",
       "4   20190910   1.0  -1.822510    1.621090\n",
       "5   20190911   1.0  -0.364865    1.591546\n",
       "6   20190912   1.0 -34.801836    1.585739\n",
       "7   20190913   1.0   4.909809    1.033873\n",
       "8   20190916   1.0  -6.230648    1.084634\n",
       "9   20190918   1.0   1.224490    1.017054\n",
       "10  20190919   1.0  50.000000    1.029508\n",
       "11  20190923   1.0   2.173913    1.544262\n",
       "12  20190924   1.0   1.128156    1.577833\n",
       "13  20190925   1.0  -7.500000    1.595633\n",
       "14  20190926   1.0   2.913971    1.475960\n",
       "15  20190927   1.0 -14.353132    1.518970\n",
       "16  20190930   1.0   4.569146    1.300950"
      ]
     },
     "execution_count": 20,
     "metadata": {},
     "output_type": "execute_result"
    }
   ],
   "source": [
    "#hide_input\n",
    "df_agg"
   ]
  },
  {
   "cell_type": "code",
   "execution_count": 21,
   "metadata": {},
   "outputs": [
    {
     "data": {
      "image/png": "[encoded data removed]",
      "text/plain": [
       "<Figure size 1440x864 with 1 Axes>"
      ]
     },
     "metadata": {
      "needs_background": "light"
     },
     "output_type": "display_data"
    }
   ],
   "source": [
    "#hide_input\n",
    "fig, a1 = plt.subplots(figsize=(20, 12))\n",
    "\n",
    "color = 'tab:red'\n",
    "a1.set_xlabel('No of Observations (s)',color='tab:green')\n",
    "a1.set_ylabel('Return (1dayholding:red,2dayholding:pink,3dayholding:brown,4dayholding:blue )', color='tab:green')\n",
    "a1.plot(df_agg['Date'], df_agg['cumreturn1'], color=color,linestyle='--')\n",
    "a1.tick_params(axis='y', labelcolor='tab:green')\n",
    "a1.tick_params(axis='x', labelcolor='tab:green')\n",
    "\n",
    "a,b = 0,10\n",
    "a1.set_ylim(a,b)\n",
    "\n",
    "\n",
    "x,y =df_agg['Date'].min(),df_agg['Date'].max()\n",
    "a1.set_xlim(x,y)\n",
    "\n",
    "\n",
    "\n",
    "fig.tight_layout()"
   ]
  },
  {
   "cell_type": "markdown",
   "metadata": {},
   "source": [
    "**Short Portfolio**"
   ]
  },
  {
   "cell_type": "code",
   "execution_count": 22,
   "metadata": {},
   "outputs": [
    {
     "name": "stderr",
     "output_type": "stream",
     "text": [
      "C:\\ProgramData\\Anaconda3\\lib\\site-packages\\ipykernel_launcher.py:5: SettingWithCopyWarning: \n",
      "A value is trying to be set on a copy of a slice from a DataFrame\n",
      "\n",
      "See the caveats in the documentation: https://pandas.pydata.org/pandas-docs/stable/user_guide/indexing.html#returning-a-view-versus-a-copy\n",
      "  \"\"\"\n"
     ]
    }
   ],
   "source": [
    "#hide\n",
    "df_agg=df_testp[['Date','pred','labelr1']].loc[df_testp.pred==-1.0].groupby(['Date','pred']).sum().reset_index();\n",
    "df_agg['cumreturn1']=0.0\n",
    "for l in range(len(df_agg)):\n",
    "    df_agg['cumreturn1'][l]=np.prod((1+(df_agg['labelr1']/100))[:l])\n",
    "\n"
   ]
  },
  {
   "cell_type": "code",
   "execution_count": 23,
   "metadata": {},
   "outputs": [
    {
     "data": {
      "text/html": [
       "<div>\n",
       "<style scoped>\n",
       "    .dataframe tbody tr th:only-of-type {\n",
       "        vertical-align: middle;\n",
       "    }\n",
       "\n",
       "    .dataframe tbody tr th {\n",
       "        vertical-align: top;\n",
       "    }\n",
       "\n",
       "    .dataframe thead th {\n",
       "        text-align: right;\n",
       "    }\n",
       "</style>\n",
       "<table border=\"1\" class=\"dataframe\">\n",
       "  <thead>\n",
       "    <tr style=\"text-align: right;\">\n",
       "      <th></th>\n",
       "      <th>Date</th>\n",
       "      <th>pred</th>\n",
       "      <th>labelr1</th>\n",
       "      <th>cumreturn1</th>\n",
       "    </tr>\n",
       "  </thead>\n",
       "  <tbody>\n",
       "    <tr>\n",
       "      <th>0</th>\n",
       "      <td>20190912</td>\n",
       "      <td>-1.0</td>\n",
       "      <td>12.796117</td>\n",
       "      <td>1.000000</td>\n",
       "    </tr>\n",
       "    <tr>\n",
       "      <th>1</th>\n",
       "      <td>20190924</td>\n",
       "      <td>-1.0</td>\n",
       "      <td>-3.333333</td>\n",
       "      <td>1.127961</td>\n",
       "    </tr>\n",
       "    <tr>\n",
       "      <th>2</th>\n",
       "      <td>20190930</td>\n",
       "      <td>-1.0</td>\n",
       "      <td>0.000000</td>\n",
       "      <td>1.090362</td>\n",
       "    </tr>\n",
       "  </tbody>\n",
       "</table>\n",
       "</div>"
      ],
      "text/plain": [
       "       Date  pred    labelr1  cumreturn1\n",
       "0  20190912  -1.0  12.796117    1.000000\n",
       "1  20190924  -1.0  -3.333333    1.127961\n",
       "2  20190930  -1.0   0.000000    1.090362"
      ]
     },
     "execution_count": 23,
     "metadata": {},
     "output_type": "execute_result"
    }
   ],
   "source": [
    "#hide_input\n",
    "df_agg"
   ]
  },
  {
   "cell_type": "code",
   "execution_count": 24,
   "metadata": {},
   "outputs": [
    {
     "data": {
      "image/png": "[encoded data removed]",
      "text/plain": [
       "<Figure size 1440x864 with 1 Axes>"
      ]
     },
     "metadata": {
      "needs_background": "light"
     },
     "output_type": "display_data"
    }
   ],
   "source": [
    "#hide\n",
    "fig, a1 = plt.subplots(figsize=(20, 12))\n",
    "\n",
    "color = 'tab:red'\n",
    "a1.set_xlabel('No of Observations (s)',color='tab:green')\n",
    "a1.set_ylabel('Return (1dayholding:red,2dayholding:pink,3dayholding:brown,4dayholding:blue )', color='tab:green')\n",
    "a1.plot(df_agg['Date'], df_agg['cumreturn1'], color=color,linestyle='--')\n",
    "a1.tick_params(axis='y', labelcolor='tab:green')\n",
    "a1.tick_params(axis='x', labelcolor='tab:green')\n",
    "\n",
    "a,b = 0,10\n",
    "a1.set_ylim(a,b)\n",
    "\n",
    "\n",
    "x,y =df_agg['Date'].min(),df_agg['Date'].max()\n",
    "a1.set_xlim(x,y)\n",
    "\n",
    "\n",
    "\n",
    "fig.tight_layout()"
   ]
  }
 ],
 "metadata": {
  "kernelspec": {
   "display_name": "Python 3",
   "language": "python",
   "name": "python3"
  },
  "language_info": {
   "codemirror_mode": {
    "name": "ipython",
    "version": 3
   },
   "file_extension": ".py",
   "mimetype": "text/x-python",
   "name": "python",
   "nbconvert_exporter": "python",
   "pygments_lexer": "ipython3",
   "version": "3.7.6"
  }
 },
 "nbformat": 4,
 "nbformat_minor": 4
}
