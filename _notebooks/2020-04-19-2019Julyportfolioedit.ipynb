{
 "cells": [
  {
   "cell_type": "markdown",
   "metadata": {},
   "source": [
    "# \"2019 July Portfolio BackTest\"\n",
    "> \"2019 July portfolio\"\n",
    "- toc: false\n",
    "- branch: master\n",
    "- badges: false\n",
    "- comments: true\n",
    "- categories: [long, short, longshort]\n",
    "- hide: false\n",
    "- search_exclude: true\n",
    "- metadata_key1: metadata_value1\n",
    "- metadata_key2: metadata_value2"
   ]
  },
  {
   "cell_type": "code",
   "execution_count": 1,
   "metadata": {},
   "outputs": [],
   "source": [
    "#hide_input\n",
    "import numpy as np\n",
    "import pandas as pd\n",
    "import seaborn as sns\n",
    "import os\n",
    "import time\n",
    "import gc\n",
    "import glob\n",
    "import matplotlib.pyplot as plt"
   ]
  },
  {
   "cell_type": "code",
   "execution_count": null,
   "metadata": {},
   "outputs": [],
   "source": [
    "#hide_input\n",
    "df_testp=pd.read_csv('D:\\\\Downloads\\\\20194dayreturnpred2019train60K.csv')"
   ]
  },
  {
   "cell_type": "code",
   "execution_count": null,
   "metadata": {},
   "outputs": [],
   "source": [
    "#hide_input\n",
    "df_testp=df_testp[['Company Name','Date', 'Ticker', 'label',  'pred', 'prof0.0', 'prof-1.0',\n",
    "       'prof1.0', 'return1&2', 'return1&2&3', 'return1&2&3&4', 'return2',\n",
    "       'return1', 'return3', 'return4', 'cumulative_return1',\n",
    "       'cumulative_return1&2', 'cumulative_return1&2&3',\n",
    "       'cumulative_return1&2&3&4']].copy()"
   ]
  },
  {
   "cell_type": "code",
   "execution_count": null,
   "metadata": {},
   "outputs": [],
   "source": [
    "#hide\n",
    "import datetime\n",
    "datetoday=f\"{datetime.datetime.now():%Y%m%d}\"\n",
    "dateyesterday=int(datetoday)-6;dateyesterday"
   ]
  },
  {
   "cell_type": "code",
   "execution_count": null,
   "metadata": {},
   "outputs": [],
   "source": [
    "#hide\n",
    "df_testp=df_testp.loc[df_testp.Date>=20190701].loc[df_testp.Date<=20190801].copy().reset_index()"
   ]
  },
  {
   "cell_type": "markdown",
   "metadata": {},
   "source": [
    "**Long-Short Portfolio**"
   ]
  },
  {
   "cell_type": "code",
   "execution_count": null,
   "metadata": {},
   "outputs": [],
   "source": [
    "#hide\n",
    "#df_testp=df_testp.loc[df_testp.Date>=20200201].copy().reset_index()\n",
    "df_testp['indexx']=range(len(df_testp))"
   ]
  },
  {
   "cell_type": "code",
   "execution_count": null,
   "metadata": {},
   "outputs": [],
   "source": [
    "#hide\n",
    "df_testp['cumulative_return1']=0.0\n",
    "df_testp['cumulative_return1&2']=0.0\n",
    "df_testp['cumulative_return1&2&3']=0.0\n",
    "df_testp['cumulative_return1&2&3&4']=0.0\n",
    "for l in range(len(df_testp)):\n",
    "  df_testp['cumulative_return1'][l]=np.prod(df_testp['return1'][:l])\n",
    "  df_testp['cumulative_return1&2'][l]=np.prod(df_testp['return1&2'][:l])\n",
    "  df_testp['cumulative_return1&2&3'][l]=np.prod(df_testp['return1&2&3'][:l])\n",
    "  df_testp['cumulative_return1&2&3&4'][l]=np.prod(df_testp['return1&2&3&4'][:l])"
   ]
  },
  {
   "cell_type": "code",
   "execution_count": null,
   "metadata": {},
   "outputs": [],
   "source": [
    "#hide_input\n",
    "df_testp.head()"
   ]
  },
  {
   "cell_type": "code",
   "execution_count": null,
   "metadata": {},
   "outputs": [],
   "source": [
    "#hide_input\n",
    "fig, a1 = plt.subplots(figsize=(20, 12))\n",
    "\n",
    "color = 'tab:red'\n",
    "a1.set_xlabel('No of Observations (s)',color='tab:green')\n",
    "a1.set_ylabel('Return (1dayholding:red,2dayholding:pink,3dayholding:brown,4dayholding:blue )', color='tab:green')\n",
    "a1.plot(df_testp['indexx'], df_testp['cumulative_return1'], color=color,linestyle='--')\n",
    "a1.tick_params(axis='y', labelcolor='tab:green')\n",
    "a1.tick_params(axis='x', labelcolor='tab:green')\n",
    "\n",
    "\n",
    "a2 = a1.twinx()  # instantiate a second axes that shares the same x-axis\n",
    "\n",
    "color = 'tab:pink'\n",
    "#a2.set_ylabel('Volume', color=color)  # we already handled the x-label with ax1\n",
    "a2.plot(df_testp['indexx'], df_testp['cumulative_return1&2'], color=color,linestyle='--')\n",
    "a2.tick_params(axis='y', labelcolor=color)\n",
    "\n",
    "a3 = a1.twinx()  # instantiate a second axes that shares the same x-axis\n",
    "\n",
    "color = 'tab:brown'\n",
    "#a2.set_ylabel('Volume', color=color)  # we already handled the x-label with ax1\n",
    "a3.plot(df_testp['indexx'], df_testp['cumulative_return1&2&3'], color=color,linestyle='--')\n",
    "a3.tick_params(axis='y', labelcolor=color)\n",
    "\n",
    "a4 = a1.twinx()  # instantiate a second axes that shares the same x-axis\n",
    "\n",
    "color = 'tab:blue'\n",
    "#a2.set_ylabel('Volume', color=color)  # we already handled the x-label with ax1\n",
    "a4.plot(df_testp['indexx'], df_testp['cumulative_return1&2&3&4'], color=color,linestyle='--')\n",
    "a4.tick_params(axis='y', labelcolor=color)\n",
    "\n",
    "a,b = 0,10\n",
    "a1.set_ylim(a,b)\n",
    "a2.set_ylim(a,b)\n",
    "a3.set_ylim(a,b)\n",
    "a4.set_ylim(a,b)\n",
    "\n",
    "x,y =df_testp['indexx'].min(),df_testp['indexx'].max()\n",
    "a1.set_xlim(x,y)\n",
    "a2.set_xlim(x,y)\n",
    "a3.set_xlim(x,y)\n",
    "a4.set_xlim(x,y)\n",
    "\n",
    "\n",
    "fig.tight_layout()"
   ]
  },
  {
   "cell_type": "markdown",
   "metadata": {},
   "source": [
    "**Long portfolio**"
   ]
  },
  {
   "cell_type": "code",
   "execution_count": null,
   "metadata": {},
   "outputs": [],
   "source": [
    "#hide_input\n",
    "df_long=df_testp.copy()\n",
    "df_long=df_long.loc[df_long.pred==1.0].sort_values(by='prof1.0',ascending=False).reset_index()\n"
   ]
  },
  {
   "cell_type": "code",
   "execution_count": null,
   "metadata": {},
   "outputs": [],
   "source": [
    "#hide_input\n",
    "df_long['indexx']=range(len(df_long))"
   ]
  },
  {
   "cell_type": "code",
   "execution_count": null,
   "metadata": {},
   "outputs": [],
   "source": [
    "#hide\n",
    "df_long['cumulative_return1']=0.0\n",
    "df_long['cumulative_return1&2']=0.0\n",
    "df_long['cumulative_return1&2&3']=0.0\n",
    "df_long['cumulative_return1&2&3&4']=0.0\n",
    "for l in range(len(df_long)):\n",
    "  df_long['cumulative_return1'][l]=np.prod(df_long['return1'][:l])\n",
    "  df_long['cumulative_return1&2'][l]=np.prod(df_long['return1&2'][:l])\n",
    "  df_long['cumulative_return1&2&3'][l]=np.prod(df_long['return1&2&3'][:l])\n",
    "  df_long['cumulative_return1&2&3&4'][l]=np.prod(df_long['return1&2&3&4'][:l])"
   ]
  },
  {
   "cell_type": "code",
   "execution_count": null,
   "metadata": {},
   "outputs": [],
   "source": [
    "#hide_input\n",
    "df_long.head()"
   ]
  },
  {
   "cell_type": "code",
   "execution_count": null,
   "metadata": {},
   "outputs": [],
   "source": [
    "#hide_input\n",
    "fig, a1 = plt.subplots(figsize=(20, 12))\n",
    "\n",
    "color = 'tab:red'\n",
    "a1.set_xlabel('No of Observations (s)',color='tab:green')\n",
    "a1.set_ylabel('Return (1dayholding:red,2dayholding:pink,3dayholding:brown,4dayholding:blue )', color='tab:green')\n",
    "a1.plot(df_long['indexx'], df_long['cumulative_return1'], color=color,linestyle='--')\n",
    "a1.tick_params(axis='y', labelcolor='tab:green')\n",
    "a1.tick_params(axis='x', labelcolor='tab:green')\n",
    "\n",
    "\n",
    "a2 = a1.twinx()  # instantiate a second axes that shares the same x-axis\n",
    "\n",
    "color = 'tab:pink'\n",
    "#a2.set_ylabel('Volume', color=color)  # we already handled the x-label with ax1\n",
    "a2.plot(df_long['indexx'], df_long['cumulative_return1&2'], color=color,linestyle='--')\n",
    "a2.tick_params(axis='y', labelcolor=color)\n",
    "\n",
    "a3 = a1.twinx()  # instantiate a second axes that shares the same x-axis\n",
    "\n",
    "color = 'tab:brown'\n",
    "#a2.set_ylabel('Volume', color=color)  # we already handled the x-label with ax1\n",
    "a3.plot(df_long['indexx'], df_long['cumulative_return1&2&3'], color=color,linestyle='--')\n",
    "a3.tick_params(axis='y', labelcolor=color)\n",
    "\n",
    "a4 = a1.twinx()  # instantiate a second axes that shares the same x-axis\n",
    "\n",
    "color = 'tab:brown'\n",
    "#a2.set_ylabel('Volume', color=color)  # we already handled the x-label with ax1\n",
    "a4.plot(df_long['indexx'], df_long['cumulative_return1&2&3&4'], color=color,linestyle='--')\n",
    "a4.tick_params(axis='y', labelcolor=color)\n",
    "\n",
    "a,b = 0,10\n",
    "\n",
    "a1.set_ylim(a,b)\n",
    "a2.set_ylim(a,b)\n",
    "a3.set_ylim(a,b)\n",
    "a4.set_ylim(a,b)\n",
    "\n",
    "x,y =df_long['indexx'].min(),df_testp['indexx'].max()\n",
    "a1.set_xlim(x,y)\n",
    "a2.set_xlim(x,y)\n",
    "a3.set_xlim(x,y)\n",
    "a4.set_xlim(x,y)\n",
    "\n",
    "fig.tight_layout()"
   ]
  },
  {
   "cell_type": "markdown",
   "metadata": {},
   "source": [
    "**Short Portfolio**"
   ]
  },
  {
   "cell_type": "code",
   "execution_count": null,
   "metadata": {},
   "outputs": [],
   "source": [
    "#hide_input\n",
    "df_short=df_testp.copy()\n",
    "df_short=df_short.loc[df_short.pred==-1.0].sort_values(by='prof-1.0',ascending=False).reset_index()"
   ]
  },
  {
   "cell_type": "code",
   "execution_count": null,
   "metadata": {},
   "outputs": [],
   "source": [
    "#hide_input\n",
    "df_short['indexx']=range(len(df_short))"
   ]
  },
  {
   "cell_type": "code",
   "execution_count": null,
   "metadata": {},
   "outputs": [],
   "source": [
    "#hide\n",
    "df_short['cumulative_return1']=0.0\n",
    "df_short['cumulative_return1&2']=0.0\n",
    "df_short['cumulative_return1&2&3']=0.0\n",
    "df_short['cumulative_return1&2&3&4']=0.0\n",
    "for l in range(len(df_short)):\n",
    "  df_short['cumulative_return1'][l]=np.prod(df_short['return1'][:l])\n",
    "  df_short['cumulative_return1&2'][l]=np.prod(df_short['return1&2'][:l])\n",
    "  df_short['cumulative_return1&2&3'][l]=np.prod(df_short['return1&2&3'][:l])\n",
    "  df_short['cumulative_return1&2&3&4'][l]=np.prod(df_short['return1&2&3&4'][:l])"
   ]
  },
  {
   "cell_type": "code",
   "execution_count": null,
   "metadata": {},
   "outputs": [],
   "source": [
    "#hide_input\n",
    "df_short.head()"
   ]
  },
  {
   "cell_type": "code",
   "execution_count": null,
   "metadata": {},
   "outputs": [],
   "source": [
    "#hide_input\n",
    "fig, a1 = plt.subplots(figsize=(20, 12))\n",
    "\n",
    "color = 'tab:red'\n",
    "a1.set_xlabel('No of Observations (s)',color='tab:green')\n",
    "a1.set_ylabel('Return (1dayholding:red,2dayholding:pink,3dayholding:brown,4dayholding:blue )', color='tab:green')\n",
    "a1.plot(df_short['indexx'], df_short['cumulative_return1'], color=color,linestyle='--')\n",
    "a1.tick_params(axis='y', labelcolor='tab:green')\n",
    "a1.tick_params(axis='x', labelcolor='tab:green')\n",
    "\n",
    "\n",
    "a2 = a1.twinx()  # instantiate a second axes that shares the same x-axis\n",
    "\n",
    "color = 'tab:pink'\n",
    "#a2.set_ylabel('Volume', color=color)  # we already handled the x-label with ax1\n",
    "a2.plot(df_short['indexx'], df_short['cumulative_return1&2'], color=color,linestyle='--')\n",
    "a2.tick_params(axis='y', labelcolor=color)\n",
    "\n",
    "a3 = a1.twinx()  # instantiate a second axes that shares the same x-axis\n",
    "\n",
    "color = 'tab:brown'\n",
    "#a2.set_ylabel('Volume', color=color)  # we already handled the x-label with ax1\n",
    "a3.plot(df_short['indexx'], df_short['cumulative_return1&2&3'], color=color,linestyle='--')\n",
    "a3.tick_params(axis='y', labelcolor=color)\n",
    "\n",
    "a4 = a1.twinx()  # instantiate a second axes that shares the same x-axis\n",
    "\n",
    "color = 'tab:brown'\n",
    "#a2.set_ylabel('Volume', color=color)  # we already handled the x-label with ax1\n",
    "a4.plot(df_short['indexx'], df_short['cumulative_return1&2&3&4'], color=color,linestyle='--')\n",
    "a4.tick_params(axis='y', labelcolor=color)\n",
    "\n",
    "a,b = 0,5\n",
    "a1.set_ylim(a,b)\n",
    "a2.set_ylim(a,b)\n",
    "a3.set_ylim(a,b)\n",
    "a4.set_ylim(a,b)\n",
    "\n",
    "x,y =df_short['indexx'].min(),df_short['indexx'].max()\n",
    "#x,y=0,10\n",
    "a1.set_xlim(x,y)\n",
    "a2.set_xlim(x,y)\n",
    "a3.set_xlim(x,y)\n",
    "a4.set_xlim(x,y)\n",
    "\n",
    "fig.tight_layout()"
   ]
  }
 ],
 "metadata": {
  "kernelspec": {
   "display_name": "Python 3",
   "language": "python",
   "name": "python3"
  },
  "language_info": {
   "codemirror_mode": {
    "name": "ipython",
    "version": 3
   },
   "file_extension": ".py",
   "mimetype": "text/x-python",
   "name": "python",
   "nbconvert_exporter": "python",
   "pygments_lexer": "ipython3",
   "version": "3.7.6"
  }
 },
 "nbformat": 4,
 "nbformat_minor": 4
}
